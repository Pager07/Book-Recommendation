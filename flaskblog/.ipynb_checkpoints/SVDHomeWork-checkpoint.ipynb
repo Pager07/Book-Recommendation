{
 "cells": [
  {
   "cell_type": "markdown",
   "metadata": {
    "colab_type": "text",
    "id": "view-in-github"
   },
   "source": [
    "<a href=\"https://colab.research.google.com/github/Pager07/Webtech/blob/master/SVDHomeWork.ipynb\" target=\"_parent\"><img src=\"https://colab.research.google.com/assets/colab-badge.svg\" alt=\"Open In Colab\"/></a>"
   ]
  },
  {
   "cell_type": "markdown",
   "metadata": {
    "colab_type": "text",
    "heading_collapsed": true,
    "id": "mSZJYqEJDOZc"
   },
   "source": [
    "#Set up"
   ]
  },
  {
   "cell_type": "code",
   "execution_count": 1,
   "metadata": {
    "colab": {},
    "colab_type": "code",
    "hidden": true,
    "id": "aReLgbTlDBMR"
   },
   "outputs": [],
   "source": [
    "import pandas as pd \n",
    "import numpy as np\n",
    "from scipy.sparse.linalg import svds"
   ]
  },
  {
   "cell_type": "code",
   "execution_count": 2,
   "metadata": {
    "colab": {
     "base_uri": "https://localhost:8080/",
     "height": 122
    },
    "colab_type": "code",
    "hidden": true,
    "id": "UTsauw7uDGgb",
    "outputId": "0602b3b5-e113-48e3-e589-3daaab8b55ce"
   },
   "outputs": [],
   "source": [
    "# from google.colab import drive \n",
    "# drive.mount('/content/gdrive/', force_remount = True)"
   ]
  },
  {
   "cell_type": "markdown",
   "metadata": {
    "colab_type": "text",
    "heading_collapsed": true,
    "id": "KBOs6NEqi8Uh"
   },
   "source": [
    "#Loading Book and Rating Table\n",
    "\n"
   ]
  },
  {
   "cell_type": "code",
   "execution_count": 3,
   "metadata": {
    "colab": {},
    "colab_type": "code",
    "hidden": true,
    "id": "Fxxu9s3xDUIx"
   },
   "outputs": [],
   "source": [
    "root_dir = '/Users/sandeep/Desktop/Homework2019/WebtechHomework/Webtech/flaskblog/BookData'\n",
    "ratings_df = pd.read_csv(root_dir + '/ratev3_table.csv', sep=',', error_bad_lines=False,encoding=\"latin-1\")\n",
    "books_df = pd.read_csv(root_dir + '/books_table.csv',sep=',', error_bad_lines=False,encoding=\"latin-1\")\n"
   ]
  },
  {
   "cell_type": "code",
   "execution_count": 4,
   "metadata": {
    "colab": {
     "base_uri": "https://localhost:8080/",
     "height": 419
    },
    "colab_type": "code",
    "hidden": true,
    "id": "JLvCVL6bjSaf",
    "outputId": "0e615a1f-038f-4d24-c6bc-d8e6d2e6d24c"
   },
   "outputs": [
    {
     "data": {
      "text/html": [
       "<div>\n",
       "<style scoped>\n",
       "    .dataframe tbody tr th:only-of-type {\n",
       "        vertical-align: middle;\n",
       "    }\n",
       "\n",
       "    .dataframe tbody tr th {\n",
       "        vertical-align: top;\n",
       "    }\n",
       "\n",
       "    .dataframe thead th {\n",
       "        text-align: right;\n",
       "    }\n",
       "</style>\n",
       "<table border=\"1\" class=\"dataframe\">\n",
       "  <thead>\n",
       "    <tr style=\"text-align: right;\">\n",
       "      <th></th>\n",
       "      <th>userID</th>\n",
       "      <th>ISBN</th>\n",
       "      <th>bookRating</th>\n",
       "    </tr>\n",
       "  </thead>\n",
       "  <tbody>\n",
       "    <tr>\n",
       "      <td>0</td>\n",
       "      <td>2299</td>\n",
       "      <td>0805057706</td>\n",
       "      <td>10</td>\n",
       "    </tr>\n",
       "    <tr>\n",
       "      <td>1</td>\n",
       "      <td>2403</td>\n",
       "      <td>0345342968</td>\n",
       "      <td>9</td>\n",
       "    </tr>\n",
       "    <tr>\n",
       "      <td>2</td>\n",
       "      <td>2413</td>\n",
       "      <td>0679450408</td>\n",
       "      <td>6</td>\n",
       "    </tr>\n",
       "    <tr>\n",
       "      <td>3</td>\n",
       "      <td>2419</td>\n",
       "      <td>0679767800</td>\n",
       "      <td>7</td>\n",
       "    </tr>\n",
       "    <tr>\n",
       "      <td>4</td>\n",
       "      <td>2507</td>\n",
       "      <td>0385424736</td>\n",
       "      <td>9</td>\n",
       "    </tr>\n",
       "    <tr>\n",
       "      <td>...</td>\n",
       "      <td>...</td>\n",
       "      <td>...</td>\n",
       "      <td>...</td>\n",
       "    </tr>\n",
       "    <tr>\n",
       "      <td>3878</td>\n",
       "      <td>2146</td>\n",
       "      <td>0316769487</td>\n",
       "      <td>10</td>\n",
       "    </tr>\n",
       "    <tr>\n",
       "      <td>3879</td>\n",
       "      <td>2188</td>\n",
       "      <td>0870114573</td>\n",
       "      <td>7</td>\n",
       "    </tr>\n",
       "    <tr>\n",
       "      <td>3880</td>\n",
       "      <td>2227</td>\n",
       "      <td>051513306X</td>\n",
       "      <td>7</td>\n",
       "    </tr>\n",
       "    <tr>\n",
       "      <td>3881</td>\n",
       "      <td>2253</td>\n",
       "      <td>0805073337</td>\n",
       "      <td>9</td>\n",
       "    </tr>\n",
       "    <tr>\n",
       "      <td>3882</td>\n",
       "      <td>2256</td>\n",
       "      <td>0684804484</td>\n",
       "      <td>10</td>\n",
       "    </tr>\n",
       "  </tbody>\n",
       "</table>\n",
       "<p>3883 rows × 3 columns</p>\n",
       "</div>"
      ],
      "text/plain": [
       "      userID        ISBN  bookRating\n",
       "0       2299  0805057706          10\n",
       "1       2403  0345342968           9\n",
       "2       2413  0679450408           6\n",
       "3       2419  0679767800           7\n",
       "4       2507  0385424736           9\n",
       "...      ...         ...         ...\n",
       "3878    2146  0316769487          10\n",
       "3879    2188  0870114573           7\n",
       "3880    2227  051513306X           7\n",
       "3881    2253  0805073337           9\n",
       "3882    2256  0684804484          10\n",
       "\n",
       "[3883 rows x 3 columns]"
      ]
     },
     "execution_count": 4,
     "metadata": {},
     "output_type": "execute_result"
    }
   ],
   "source": [
    "ratings_df"
   ]
  },
  {
   "cell_type": "code",
   "execution_count": 5,
   "metadata": {
    "colab": {
     "base_uri": "https://localhost:8080/",
     "height": 204
    },
    "colab_type": "code",
    "hidden": true,
    "id": "7t9kJtMUjUuy",
    "outputId": "3389650f-3c1f-4dff-a712-c5129dc7fae4"
   },
   "outputs": [
    {
     "data": {
      "text/html": [
       "<div>\n",
       "<style scoped>\n",
       "    .dataframe tbody tr th:only-of-type {\n",
       "        vertical-align: middle;\n",
       "    }\n",
       "\n",
       "    .dataframe tbody tr th {\n",
       "        vertical-align: top;\n",
       "    }\n",
       "\n",
       "    .dataframe thead th {\n",
       "        text-align: right;\n",
       "    }\n",
       "</style>\n",
       "<table border=\"1\" class=\"dataframe\">\n",
       "  <thead>\n",
       "    <tr style=\"text-align: right;\">\n",
       "      <th></th>\n",
       "      <th>ISBN</th>\n",
       "      <th>book_title</th>\n",
       "      <th>genre</th>\n",
       "    </tr>\n",
       "  </thead>\n",
       "  <tbody>\n",
       "    <tr>\n",
       "      <td>0</td>\n",
       "      <td>0395366283</td>\n",
       "      <td>Curious George Goes to the Aquarium</td>\n",
       "      <td>Children's Fiction|General</td>\n",
       "    </tr>\n",
       "    <tr>\n",
       "      <td>1</td>\n",
       "      <td>0070434247</td>\n",
       "      <td>China: Its History and Culture</td>\n",
       "      <td>Asia - Civilization|Asian Studies - East Asia ...</td>\n",
       "    </tr>\n",
       "    <tr>\n",
       "      <td>2</td>\n",
       "      <td>2253141453</td>\n",
       "      <td>De l'amour et autres dÃ?ÃÂ©mons</td>\n",
       "      <td>Fiction</td>\n",
       "    </tr>\n",
       "    <tr>\n",
       "      <td>3</td>\n",
       "      <td>0425171299</td>\n",
       "      <td>Charmed</td>\n",
       "      <td>Romance fiction</td>\n",
       "    </tr>\n",
       "    <tr>\n",
       "      <td>4</td>\n",
       "      <td>0440508568</td>\n",
       "      <td>What Einstein Didn't Know : Scientific Answers...</td>\n",
       "      <td>Science|Essays</td>\n",
       "    </tr>\n",
       "  </tbody>\n",
       "</table>\n",
       "</div>"
      ],
      "text/plain": [
       "         ISBN                                         book_title  \\\n",
       "0  0395366283                Curious George Goes to the Aquarium   \n",
       "1  0070434247                     China: Its History and Culture   \n",
       "2  2253141453                  De l'amour et autres dÃ?ÃÂ©mons   \n",
       "3  0425171299                                            Charmed   \n",
       "4  0440508568  What Einstein Didn't Know : Scientific Answers...   \n",
       "\n",
       "                                               genre  \n",
       "0                         Children's Fiction|General  \n",
       "1  Asia - Civilization|Asian Studies - East Asia ...  \n",
       "2                                            Fiction  \n",
       "3                                    Romance fiction  \n",
       "4                                     Science|Essays  "
      ]
     },
     "execution_count": 5,
     "metadata": {},
     "output_type": "execute_result"
    }
   ],
   "source": [
    "books_df.head()"
   ]
  },
  {
   "cell_type": "markdown",
   "metadata": {
    "colab_type": "text",
    "heading_collapsed": true,
    "id": "fs22hKF1lQ-W"
   },
   "source": [
    "#Setting up Rating Data\n",
    " - Formate rating matrix \n",
    "    - user x movies \n",
    "    - use df.piviot ffunction\n",
    "    - Fill cells with na with 0\n",
    "- De-mean the data\n",
    "    - nomrmalize by each users mean\n",
    "        - find mean vector: user_mean * 1 \n",
    "        - Subtract it from coloum\n",
    "    - Convert it form a dataframe to numpy array"
   ]
  },
  {
   "cell_type": "code",
   "execution_count": 6,
   "metadata": {
    "colab": {},
    "colab_type": "code",
    "hidden": true,
    "id": "VRFZ5k1Vlqaq"
   },
   "outputs": [],
   "source": [
    "r_df = ratings_df.pivot(index='userID',columns='ISBN',values='bookRating').fillna(0)"
   ]
  },
  {
   "cell_type": "code",
   "execution_count": 7,
   "metadata": {
    "colab": {
     "base_uri": "https://localhost:8080/",
     "height": 284
    },
    "colab_type": "code",
    "hidden": true,
    "id": "coehnyQ8mUMv",
    "outputId": "7981ca93-980a-4983-aa58-d42d033394c3"
   },
   "outputs": [
    {
     "data": {
      "text/html": [
       "<div>\n",
       "<style scoped>\n",
       "    .dataframe tbody tr th:only-of-type {\n",
       "        vertical-align: middle;\n",
       "    }\n",
       "\n",
       "    .dataframe tbody tr th {\n",
       "        vertical-align: top;\n",
       "    }\n",
       "\n",
       "    .dataframe thead th {\n",
       "        text-align: right;\n",
       "    }\n",
       "</style>\n",
       "<table border=\"1\" class=\"dataframe\">\n",
       "  <thead>\n",
       "    <tr style=\"text-align: right;\">\n",
       "      <th>ISBN</th>\n",
       "      <th>0002211890</th>\n",
       "      <th>0002245663</th>\n",
       "      <th>0006161529</th>\n",
       "      <th>0006372570</th>\n",
       "      <th>000648381X</th>\n",
       "      <th>0007108389</th>\n",
       "      <th>000712614X</th>\n",
       "      <th>0020291604</th>\n",
       "      <th>002037500X</th>\n",
       "      <th>002086910X</th>\n",
       "      <th>...</th>\n",
       "      <th>843207036X</th>\n",
       "      <th>8437604184</th>\n",
       "      <th>843970206X</th>\n",
       "      <th>843970366X</th>\n",
       "      <th>847615562X</th>\n",
       "      <th>8478808175</th>\n",
       "      <th>848437386X</th>\n",
       "      <th>8830407445</th>\n",
       "      <th>8836807356</th>\n",
       "      <th>9728288115</th>\n",
       "    </tr>\n",
       "    <tr>\n",
       "      <th>userID</th>\n",
       "      <th></th>\n",
       "      <th></th>\n",
       "      <th></th>\n",
       "      <th></th>\n",
       "      <th></th>\n",
       "      <th></th>\n",
       "      <th></th>\n",
       "      <th></th>\n",
       "      <th></th>\n",
       "      <th></th>\n",
       "      <th></th>\n",
       "      <th></th>\n",
       "      <th></th>\n",
       "      <th></th>\n",
       "      <th></th>\n",
       "      <th></th>\n",
       "      <th></th>\n",
       "      <th></th>\n",
       "      <th></th>\n",
       "      <th></th>\n",
       "      <th></th>\n",
       "    </tr>\n",
       "  </thead>\n",
       "  <tbody>\n",
       "    <tr>\n",
       "      <td>0</td>\n",
       "      <td>0.0</td>\n",
       "      <td>0.0</td>\n",
       "      <td>0.0</td>\n",
       "      <td>0.0</td>\n",
       "      <td>0.0</td>\n",
       "      <td>0.0</td>\n",
       "      <td>0.0</td>\n",
       "      <td>0.0</td>\n",
       "      <td>0.0</td>\n",
       "      <td>0.0</td>\n",
       "      <td>...</td>\n",
       "      <td>0.0</td>\n",
       "      <td>0.0</td>\n",
       "      <td>0.0</td>\n",
       "      <td>0.0</td>\n",
       "      <td>0.0</td>\n",
       "      <td>0.0</td>\n",
       "      <td>0.0</td>\n",
       "      <td>0.0</td>\n",
       "      <td>0.0</td>\n",
       "      <td>0.0</td>\n",
       "    </tr>\n",
       "    <tr>\n",
       "      <td>1</td>\n",
       "      <td>0.0</td>\n",
       "      <td>0.0</td>\n",
       "      <td>0.0</td>\n",
       "      <td>0.0</td>\n",
       "      <td>0.0</td>\n",
       "      <td>0.0</td>\n",
       "      <td>0.0</td>\n",
       "      <td>0.0</td>\n",
       "      <td>0.0</td>\n",
       "      <td>0.0</td>\n",
       "      <td>...</td>\n",
       "      <td>0.0</td>\n",
       "      <td>0.0</td>\n",
       "      <td>0.0</td>\n",
       "      <td>0.0</td>\n",
       "      <td>0.0</td>\n",
       "      <td>0.0</td>\n",
       "      <td>0.0</td>\n",
       "      <td>0.0</td>\n",
       "      <td>0.0</td>\n",
       "      <td>0.0</td>\n",
       "    </tr>\n",
       "    <tr>\n",
       "      <td>2</td>\n",
       "      <td>0.0</td>\n",
       "      <td>0.0</td>\n",
       "      <td>0.0</td>\n",
       "      <td>0.0</td>\n",
       "      <td>0.0</td>\n",
       "      <td>0.0</td>\n",
       "      <td>0.0</td>\n",
       "      <td>0.0</td>\n",
       "      <td>0.0</td>\n",
       "      <td>0.0</td>\n",
       "      <td>...</td>\n",
       "      <td>0.0</td>\n",
       "      <td>0.0</td>\n",
       "      <td>0.0</td>\n",
       "      <td>0.0</td>\n",
       "      <td>0.0</td>\n",
       "      <td>0.0</td>\n",
       "      <td>0.0</td>\n",
       "      <td>0.0</td>\n",
       "      <td>0.0</td>\n",
       "      <td>0.0</td>\n",
       "    </tr>\n",
       "    <tr>\n",
       "      <td>3</td>\n",
       "      <td>0.0</td>\n",
       "      <td>0.0</td>\n",
       "      <td>0.0</td>\n",
       "      <td>0.0</td>\n",
       "      <td>0.0</td>\n",
       "      <td>0.0</td>\n",
       "      <td>0.0</td>\n",
       "      <td>0.0</td>\n",
       "      <td>0.0</td>\n",
       "      <td>0.0</td>\n",
       "      <td>...</td>\n",
       "      <td>0.0</td>\n",
       "      <td>0.0</td>\n",
       "      <td>0.0</td>\n",
       "      <td>0.0</td>\n",
       "      <td>0.0</td>\n",
       "      <td>0.0</td>\n",
       "      <td>0.0</td>\n",
       "      <td>0.0</td>\n",
       "      <td>0.0</td>\n",
       "      <td>0.0</td>\n",
       "    </tr>\n",
       "    <tr>\n",
       "      <td>4</td>\n",
       "      <td>0.0</td>\n",
       "      <td>0.0</td>\n",
       "      <td>0.0</td>\n",
       "      <td>0.0</td>\n",
       "      <td>0.0</td>\n",
       "      <td>0.0</td>\n",
       "      <td>0.0</td>\n",
       "      <td>0.0</td>\n",
       "      <td>0.0</td>\n",
       "      <td>0.0</td>\n",
       "      <td>...</td>\n",
       "      <td>0.0</td>\n",
       "      <td>0.0</td>\n",
       "      <td>0.0</td>\n",
       "      <td>0.0</td>\n",
       "      <td>0.0</td>\n",
       "      <td>0.0</td>\n",
       "      <td>0.0</td>\n",
       "      <td>0.0</td>\n",
       "      <td>0.0</td>\n",
       "      <td>0.0</td>\n",
       "    </tr>\n",
       "  </tbody>\n",
       "</table>\n",
       "<p>5 rows × 1303 columns</p>\n",
       "</div>"
      ],
      "text/plain": [
       "ISBN    0002211890  0002245663  0006161529  0006372570  000648381X  \\\n",
       "userID                                                               \n",
       "0              0.0         0.0         0.0         0.0         0.0   \n",
       "1              0.0         0.0         0.0         0.0         0.0   \n",
       "2              0.0         0.0         0.0         0.0         0.0   \n",
       "3              0.0         0.0         0.0         0.0         0.0   \n",
       "4              0.0         0.0         0.0         0.0         0.0   \n",
       "\n",
       "ISBN    0007108389  000712614X  0020291604  002037500X  002086910X  ...  \\\n",
       "userID                                                              ...   \n",
       "0              0.0         0.0         0.0         0.0         0.0  ...   \n",
       "1              0.0         0.0         0.0         0.0         0.0  ...   \n",
       "2              0.0         0.0         0.0         0.0         0.0  ...   \n",
       "3              0.0         0.0         0.0         0.0         0.0  ...   \n",
       "4              0.0         0.0         0.0         0.0         0.0  ...   \n",
       "\n",
       "ISBN    843207036X  8437604184  843970206X  843970366X  847615562X  \\\n",
       "userID                                                               \n",
       "0              0.0         0.0         0.0         0.0         0.0   \n",
       "1              0.0         0.0         0.0         0.0         0.0   \n",
       "2              0.0         0.0         0.0         0.0         0.0   \n",
       "3              0.0         0.0         0.0         0.0         0.0   \n",
       "4              0.0         0.0         0.0         0.0         0.0   \n",
       "\n",
       "ISBN    8478808175  848437386X  8830407445  8836807356  9728288115  \n",
       "userID                                                              \n",
       "0              0.0         0.0         0.0         0.0         0.0  \n",
       "1              0.0         0.0         0.0         0.0         0.0  \n",
       "2              0.0         0.0         0.0         0.0         0.0  \n",
       "3              0.0         0.0         0.0         0.0         0.0  \n",
       "4              0.0         0.0         0.0         0.0         0.0  \n",
       "\n",
       "[5 rows x 1303 columns]"
      ]
     },
     "execution_count": 7,
     "metadata": {},
     "output_type": "execute_result"
    }
   ],
   "source": [
    "r_df.head()"
   ]
  },
  {
   "cell_type": "code",
   "execution_count": 8,
   "metadata": {
    "colab": {
     "base_uri": "https://localhost:8080/",
     "height": 71
    },
    "colab_type": "code",
    "hidden": true,
    "id": "uH0FGJqjmXN_",
    "outputId": "1be5af1e-b106-42cf-ad29-e3be6e041963"
   },
   "outputs": [
    {
     "name": "stderr",
     "output_type": "stream",
     "text": [
      "/Library/Frameworks/Python.framework/Versions/3.7/lib/python3.7/site-packages/ipykernel_launcher.py:1: FutureWarning: Method .as_matrix will be removed in a future version. Use .values instead.\n",
      "  \"\"\"Entry point for launching an IPython kernel.\n"
     ]
    }
   ],
   "source": [
    "R = r_df.as_matrix()\n",
    "users_mean_rating = np.mean(R, axis = 1)\n",
    "R_demeaned = R - users_mean_rating.reshape(-1,1)"
   ]
  },
  {
   "cell_type": "markdown",
   "metadata": {
    "colab_type": "text",
    "heading_collapsed": true,
    "id": "T_F5Z-mWTWlH"
   },
   "source": [
    "#Singular Value Decomposition SVD\n",
    "- Follow the guide\n",
    "- Y = U x sigma x Vt\n",
    "    - Kinda like X x Theta'\n",
    "    - simga is a diagonal matrix like,identity matrix but not really\n",
    "        - Just scales things up\n",
    "\n",
    "- Y = user X movie"
   ]
  },
  {
   "cell_type": "code",
   "execution_count": 9,
   "metadata": {
    "colab": {},
    "colab_type": "code",
    "hidden": true,
    "id": "RwhLlzxBTaBn"
   },
   "outputs": [],
   "source": [
    "U,sigma,Vt = svds(R_demeaned, k=50)\n",
    "sigma = np.diag(sigma)\n",
    "Y = np.dot(np.dot(U,sigma),Vt) + users_mean_rating.reshape(-1,1)"
   ]
  },
  {
   "cell_type": "code",
   "execution_count": 10,
   "metadata": {
    "colab": {},
    "colab_type": "code",
    "hidden": true,
    "id": "E-luW3NxUeLr"
   },
   "outputs": [],
   "source": [
    "Y_df = pd.DataFrame(Y,columns = r_df.columns)"
   ]
  },
  {
   "cell_type": "code",
   "execution_count": 11,
   "metadata": {
    "colab": {
     "base_uri": "https://localhost:8080/",
     "height": 253
    },
    "colab_type": "code",
    "hidden": true,
    "id": "GKo6giX5V1TM",
    "outputId": "e13bd3c3-e3c2-4901-c30e-26f5371f7da1"
   },
   "outputs": [
    {
     "data": {
      "text/html": [
       "<div>\n",
       "<style scoped>\n",
       "    .dataframe tbody tr th:only-of-type {\n",
       "        vertical-align: middle;\n",
       "    }\n",
       "\n",
       "    .dataframe tbody tr th {\n",
       "        vertical-align: top;\n",
       "    }\n",
       "\n",
       "    .dataframe thead th {\n",
       "        text-align: right;\n",
       "    }\n",
       "</style>\n",
       "<table border=\"1\" class=\"dataframe\">\n",
       "  <thead>\n",
       "    <tr style=\"text-align: right;\">\n",
       "      <th>ISBN</th>\n",
       "      <th>0002211890</th>\n",
       "      <th>0002245663</th>\n",
       "      <th>0006161529</th>\n",
       "      <th>0006372570</th>\n",
       "      <th>000648381X</th>\n",
       "      <th>0007108389</th>\n",
       "      <th>000712614X</th>\n",
       "      <th>0020291604</th>\n",
       "      <th>002037500X</th>\n",
       "      <th>002086910X</th>\n",
       "      <th>...</th>\n",
       "      <th>843207036X</th>\n",
       "      <th>8437604184</th>\n",
       "      <th>843970206X</th>\n",
       "      <th>843970366X</th>\n",
       "      <th>847615562X</th>\n",
       "      <th>8478808175</th>\n",
       "      <th>848437386X</th>\n",
       "      <th>8830407445</th>\n",
       "      <th>8836807356</th>\n",
       "      <th>9728288115</th>\n",
       "    </tr>\n",
       "  </thead>\n",
       "  <tbody>\n",
       "    <tr>\n",
       "      <td>0</td>\n",
       "      <td>-0.005572</td>\n",
       "      <td>-0.004746</td>\n",
       "      <td>-0.005572</td>\n",
       "      <td>-0.004161</td>\n",
       "      <td>-0.005020</td>\n",
       "      <td>-0.004161</td>\n",
       "      <td>-0.005850</td>\n",
       "      <td>-0.004161</td>\n",
       "      <td>0.021200</td>\n",
       "      <td>-0.005066</td>\n",
       "      <td>...</td>\n",
       "      <td>-0.005020</td>\n",
       "      <td>0.204600</td>\n",
       "      <td>-0.005086</td>\n",
       "      <td>-0.004320</td>\n",
       "      <td>-0.004514</td>\n",
       "      <td>-0.004161</td>\n",
       "      <td>-0.004453</td>\n",
       "      <td>-0.005020</td>\n",
       "      <td>-0.005020</td>\n",
       "      <td>-0.005020</td>\n",
       "    </tr>\n",
       "    <tr>\n",
       "      <td>1</td>\n",
       "      <td>0.004536</td>\n",
       "      <td>0.004515</td>\n",
       "      <td>0.004536</td>\n",
       "      <td>0.004501</td>\n",
       "      <td>0.004522</td>\n",
       "      <td>0.004501</td>\n",
       "      <td>0.004543</td>\n",
       "      <td>0.004501</td>\n",
       "      <td>0.004406</td>\n",
       "      <td>0.003981</td>\n",
       "      <td>...</td>\n",
       "      <td>0.004522</td>\n",
       "      <td>0.000307</td>\n",
       "      <td>0.004524</td>\n",
       "      <td>0.004505</td>\n",
       "      <td>0.004510</td>\n",
       "      <td>0.004501</td>\n",
       "      <td>0.004508</td>\n",
       "      <td>0.004522</td>\n",
       "      <td>0.004522</td>\n",
       "      <td>0.004522</td>\n",
       "    </tr>\n",
       "    <tr>\n",
       "      <td>2</td>\n",
       "      <td>0.007283</td>\n",
       "      <td>0.007249</td>\n",
       "      <td>0.007283</td>\n",
       "      <td>0.007225</td>\n",
       "      <td>0.007261</td>\n",
       "      <td>0.007225</td>\n",
       "      <td>0.007294</td>\n",
       "      <td>0.007225</td>\n",
       "      <td>0.007067</td>\n",
       "      <td>0.006357</td>\n",
       "      <td>...</td>\n",
       "      <td>0.007261</td>\n",
       "      <td>0.000402</td>\n",
       "      <td>0.007263</td>\n",
       "      <td>0.007232</td>\n",
       "      <td>0.007240</td>\n",
       "      <td>0.007225</td>\n",
       "      <td>0.007237</td>\n",
       "      <td>0.007261</td>\n",
       "      <td>0.007261</td>\n",
       "      <td>0.007261</td>\n",
       "    </tr>\n",
       "    <tr>\n",
       "      <td>3</td>\n",
       "      <td>0.004573</td>\n",
       "      <td>0.004551</td>\n",
       "      <td>0.004573</td>\n",
       "      <td>0.004535</td>\n",
       "      <td>0.004558</td>\n",
       "      <td>0.004535</td>\n",
       "      <td>0.004580</td>\n",
       "      <td>0.004535</td>\n",
       "      <td>0.004431</td>\n",
       "      <td>0.003962</td>\n",
       "      <td>...</td>\n",
       "      <td>0.004558</td>\n",
       "      <td>0.000182</td>\n",
       "      <td>0.004560</td>\n",
       "      <td>0.004539</td>\n",
       "      <td>0.004544</td>\n",
       "      <td>0.004535</td>\n",
       "      <td>0.004543</td>\n",
       "      <td>0.004558</td>\n",
       "      <td>0.004558</td>\n",
       "      <td>0.004558</td>\n",
       "    </tr>\n",
       "    <tr>\n",
       "      <td>4</td>\n",
       "      <td>0.007335</td>\n",
       "      <td>0.007298</td>\n",
       "      <td>0.007335</td>\n",
       "      <td>0.007272</td>\n",
       "      <td>0.007311</td>\n",
       "      <td>0.007272</td>\n",
       "      <td>0.007347</td>\n",
       "      <td>0.007272</td>\n",
       "      <td>0.007101</td>\n",
       "      <td>0.006330</td>\n",
       "      <td>...</td>\n",
       "      <td>0.007311</td>\n",
       "      <td>0.000232</td>\n",
       "      <td>0.007313</td>\n",
       "      <td>0.007279</td>\n",
       "      <td>0.007288</td>\n",
       "      <td>0.007272</td>\n",
       "      <td>0.007285</td>\n",
       "      <td>0.007311</td>\n",
       "      <td>0.007311</td>\n",
       "      <td>0.007311</td>\n",
       "    </tr>\n",
       "  </tbody>\n",
       "</table>\n",
       "<p>5 rows × 1303 columns</p>\n",
       "</div>"
      ],
      "text/plain": [
       "ISBN  0002211890  0002245663  0006161529  0006372570  000648381X  0007108389  \\\n",
       "0      -0.005572   -0.004746   -0.005572   -0.004161   -0.005020   -0.004161   \n",
       "1       0.004536    0.004515    0.004536    0.004501    0.004522    0.004501   \n",
       "2       0.007283    0.007249    0.007283    0.007225    0.007261    0.007225   \n",
       "3       0.004573    0.004551    0.004573    0.004535    0.004558    0.004535   \n",
       "4       0.007335    0.007298    0.007335    0.007272    0.007311    0.007272   \n",
       "\n",
       "ISBN  000712614X  0020291604  002037500X  002086910X  ...  843207036X  \\\n",
       "0      -0.005850   -0.004161    0.021200   -0.005066  ...   -0.005020   \n",
       "1       0.004543    0.004501    0.004406    0.003981  ...    0.004522   \n",
       "2       0.007294    0.007225    0.007067    0.006357  ...    0.007261   \n",
       "3       0.004580    0.004535    0.004431    0.003962  ...    0.004558   \n",
       "4       0.007347    0.007272    0.007101    0.006330  ...    0.007311   \n",
       "\n",
       "ISBN  8437604184  843970206X  843970366X  847615562X  8478808175  848437386X  \\\n",
       "0       0.204600   -0.005086   -0.004320   -0.004514   -0.004161   -0.004453   \n",
       "1       0.000307    0.004524    0.004505    0.004510    0.004501    0.004508   \n",
       "2       0.000402    0.007263    0.007232    0.007240    0.007225    0.007237   \n",
       "3       0.000182    0.004560    0.004539    0.004544    0.004535    0.004543   \n",
       "4       0.000232    0.007313    0.007279    0.007288    0.007272    0.007285   \n",
       "\n",
       "ISBN  8830407445  8836807356  9728288115  \n",
       "0      -0.005020   -0.005020   -0.005020  \n",
       "1       0.004522    0.004522    0.004522  \n",
       "2       0.007261    0.007261    0.007261  \n",
       "3       0.004558    0.004558    0.004558  \n",
       "4       0.007311    0.007311    0.007311  \n",
       "\n",
       "[5 rows x 1303 columns]"
      ]
     },
     "execution_count": 11,
     "metadata": {},
     "output_type": "execute_result"
    }
   ],
   "source": [
    "Y_df.head()"
   ]
  },
  {
   "cell_type": "markdown",
   "metadata": {
    "colab_type": "text",
    "heading_collapsed": true,
    "id": "pPeiEP3nWPGS"
   },
   "source": [
    "#Movie Reccomendation\n",
    " - Build a function that take userID and return you the sorted_user_prediction\n",
    "    - Find which row the user is in?\n",
    "         - I have made the dataset such that userID == row_index\n"
   ]
  },
  {
   "cell_type": "code",
   "execution_count": 12,
   "metadata": {
    "colab": {},
    "colab_type": "code",
    "hidden": true,
    "id": "eyn2skNIV3av"
   },
   "outputs": [],
   "source": [
    "def get_sorted_user_prediction(userId):\n",
    "  user_row_number = userId \n",
    "  sorted_user_pred = Y_df.iloc[user_row_number].sort_values(ascending = False)\n",
    "  return sorted_user_pred\n"
   ]
  },
  {
   "cell_type": "code",
   "execution_count": 14,
   "metadata": {
    "colab": {},
    "colab_type": "code",
    "hidden": true,
    "id": "Xj_IiMSUkPlV"
   },
   "outputs": [],
   "source": [
    "def get_user_rated_books(books_dfx,ratings_dfx,userID):\n",
    "  user_data = ratings_dfx[ratings_dfx.userID ==userID]\n",
    "  user_full= user_data.merge(books_dfx,how='left',left_on = 'ISBN',right_on = 'ISBN').sort_values(['bookRating'],ascending=False)\n",
    "  return user_full\n"
   ]
  },
  {
   "cell_type": "code",
   "execution_count": 15,
   "metadata": {
    "colab": {},
    "colab_type": "code",
    "hidden": true,
    "id": "4Jftdd0yuxr1"
   },
   "outputs": [],
   "source": [
    "def get_recommendation(books_df, ratings_df , userID):\n",
    "  user_rated_books = get_user_rated_books(books_df,ratings_df,userID)\n",
    "  books_not_rated_by_user = books_df[~books_df['ISBN'].isin(user_rated_books['ISBN'])]\n",
    "  \n",
    "  sorted_books_prediction_score_for_user = get_sorted_user_prediction(userID);\n",
    "  sorted_books_prediction_score_for_user= pd.DataFrame(sorted_books_prediction_score_for_user).reset_index()\n",
    "  highest_scored_unseen_books=(books_not_rated_by_user.merge(sorted_books_prediction_score_for_user,how='left',\n",
    "                                                            left_on = 'ISBN',right_on = 'ISBN'));\n",
    "\n",
    "  highest_scored_unseen_books = highest_scored_unseen_books.rename(columns={userID:'Prediction'}).sort_values('Prediction',ascending = False).iloc[:10, :-1]\n",
    "\n",
    "  return user_rated_books , highest_scored_unseen_books\n",
    "\n"
   ]
  },
  {
   "cell_type": "markdown",
   "metadata": {
    "heading_collapsed": true
   },
   "source": [
    "#Redo SVD"
   ]
  },
  {
   "cell_type": "code",
   "execution_count": 19,
   "metadata": {
    "hidden": true
   },
   "outputs": [],
   "source": [
    "def redo_SVD():\n",
    "    global U,sigma,Vt,Y,Y_df\n",
    "    U,sigma,Vt = svds(R_demeaned, k=50)\n",
    "    sigma = np.diag(sigma)\n",
    "    Y = np.dot(np.dot(U,sigma),Vt) + users_mean_rating.reshape(-1,1)\n",
    "    Y_df = pd.DataFrame(Y,columns = r_df.columns)"
   ]
  },
  {
   "cell_type": "markdown",
   "metadata": {
    "heading_collapsed": true
   },
   "source": [
    "#Get Random unseen books"
   ]
  },
  {
   "cell_type": "code",
   "execution_count": 20,
   "metadata": {
    "hidden": true
   },
   "outputs": [],
   "source": [
    "def get_random_unseen_books(userID):\n",
    "    books_df,ratings_df = get_df()\n",
    "    user_rated_books = get_user_rated_books(books_df,ratings_df,userID)\n",
    "    books_not_rated_by_user = books_df[~books_df['ISBN'].isin(user_rated_books['ISBN'])]\n",
    "    return books_not_rated_by_user\n",
    "    \n",
    "    "
   ]
  },
  {
   "cell_type": "markdown",
   "metadata": {},
   "source": [
    "#Return dataframes\n",
    "\n",
    "- book dataframe: books_df (named as)\n",
    "- ratings dataframe: ratings_df (named as)\n",
    "    - The changes that happens\n",
    "        - ratings_df -> r_df (pandas dataframe) -> R(numpy matrix)"
   ]
  },
  {
   "cell_type": "code",
   "execution_count": 22,
   "metadata": {},
   "outputs": [],
   "source": [
    "def get_df():\n",
    "    return books_df, ratings_df"
   ]
  },
  {
   "cell_type": "markdown",
   "metadata": {
    "heading_collapsed": true
   },
   "source": [
    "#Post books, ratings, new_users\n",
    "    - Posting books and rating is easy\n",
    "         - Just append it to dataframe\n",
    "         - How does the book and rating obj look like?\n",
    "             - book_obj = {'ISBN':.. , 'book_title':.. , 'genre': ..}\n",
    "             - rating_obj = {'userID':.. , 'ISBN':.. , 'bookRating':..}\n",
    "    - Positng new_user\n",
    "        - What does it mean to post a new user?\n",
    "               - To do this prepare a list of objs\n",
    "                   - new_rating obj's for that user\n",
    "                       - {userID: XXX, ISBN: XXX , bookRating: XXX}\n",
    "                           - PLEASE MAKE SURE each KEY has right datatype\n",
    "                           - How to prepare values of each key is not this modules problem\n",
    "               - append each obj to rating dataframe\n",
    "                   "
   ]
  },
  {
   "cell_type": "code",
   "execution_count": 23,
   "metadata": {
    "hidden": true
   },
   "outputs": [],
   "source": [
    "def post_books(book_obj):\n",
    "    print('hello')\n",
    "    global books_df\n",
    "    books_df = books_df.append(book_obj,ignore_index=True)"
   ]
  },
  {
   "cell_type": "code",
   "execution_count": 24,
   "metadata": {
    "hidden": true
   },
   "outputs": [],
   "source": [
    "def post_book_rating(rating_obj):\n",
    "    global ratings_df,r_df,R,users_mean_rating,R_demeaned\n",
    "    userID = int(rating_obj['userID'])\n",
    "    isbn  = rating_obj['ISBN']\n",
    "    bookRating = rating_obj['bookRating']\n",
    "    print('ISBN  received:'+isbn)\n",
    "    if len(ratings_df.loc[(ratings_df.userID == userID)&(ratings_df.ISBN == isbn)]) == 0:\n",
    "        ratings_df = ratings_df.append(rating_obj , ignore_index=True)\n",
    "    else:\n",
    "        ratings_df.loc[(ratings_df.userID == userID)&(ratings_df.ISBN == isbn) , 'bookRating'] =bookRating\n",
    "    \n",
    "    #     remake  the r_df and r_demeaned\n",
    "    r_df = ratings_df.pivot(index='userID',columns='ISBN',values='bookRating').fillna(0)\n",
    "    R = r_df.as_matrix()\n",
    "    users_mean_rating = np.mean(R, axis = 1)\n",
    "    R_demeaned = R - users_mean_rating.reshape(-1,1)"
   ]
  },
  {
   "cell_type": "code",
   "execution_count": 25,
   "metadata": {
    "hidden": true
   },
   "outputs": [],
   "source": [
    "def post_new_users(rating_objs_list):\n",
    "    for obj in rating_objs_list:\n",
    "        ratings_df = ratings_df.append(obj, ignore_index=True)"
   ]
  },
  {
   "cell_type": "code",
   "execution_count": 26,
   "metadata": {
    "hidden": true
   },
   "outputs": [],
   "source": [
    "def get_new_book_isbn():\n",
    "    new_book_isbn = max(books_df.index.unique()) +1 \n",
    "    return str(new_book_isbn)\n",
    "    \n",
    "    "
   ]
  },
  {
   "cell_type": "markdown",
   "metadata": {
    "heading_collapsed": true
   },
   "source": [
    "#Delete book,book rating,user"
   ]
  },
  {
   "cell_type": "code",
   "execution_count": 37,
   "metadata": {
    "hidden": true
   },
   "outputs": [],
   "source": [
    "def delete_book_rating(rating_obj):\n",
    "    userID = int(rating_obj['userID'])\n",
    "    isbn  = rating_obj['ISBN']\n",
    "    row_index = ratings_df.loc[(ratings_df.userID == userID)&(ratings_df.ISBN == isbn)].index\n",
    "    ratings_df.drop(ratings_df.index[[row_index]],inplace= True)\n",
    "        \n",
    "       \n",
    "    # remake  the r_df and r_demeaned\n",
    "    r_df = ratings_df.pivot(index='userID',columns='ISBN',values='bookRating').fillna(0)\n",
    "    R = r_df.as_matrix()\n",
    "    users_mean_rating = np.mean(R, axis = 1)\n",
    "    R_demeaned = R - users_mean_rating.reshape(-1,1)"
   ]
  },
  {
   "cell_type": "code",
   "execution_count": 38,
   "metadata": {
    "hidden": true
   },
   "outputs": [],
   "source": [
    "def check_isbn(isbn):\n",
    "    global books_df\n",
    "    if len(books_df[books_df.ISBN == isbn]) != 0:\n",
    "        return True \n",
    "    else:\n",
    "        return False"
   ]
  },
  {
   "cell_type": "code",
   "execution_count": 39,
   "metadata": {
    "hidden": true
   },
   "outputs": [],
   "source": [
    "def delete_book_bookify(isbn):\n",
    "    global books_df,ratings_df\n",
    "    books_df_row_index = books_df.loc[books_df.ISBN == isbn].index\n",
    "    books_df.drop(books_df.index[[books_df_row_index]],inplace= True)\n",
    "    \n",
    "    if len(ratings_df[ratings_df.ISBN == isbn].index) != 0:\n",
    "        ratings_df_row_index = ratings_df.loc[ratings_df.ISBN == isbn].index\n",
    "        ratings_df.drop(ratings_df.index[[ratings_df_row_index]],inplace=True)"
   ]
  },
  {
   "cell_type": "code",
   "execution_count": 40,
   "metadata": {
    "hidden": true
   },
   "outputs": [],
   "source": [
    "def delete_user(userIDx):\n",
    "    global ratings_df\n",
    "    row_index = ratings_df.loc[(ratings_df.userID == userIDx)].index\n",
    "    print(row_index)\n",
    "    print(userIDx)\n",
    "    ratings_df = ratings_df.drop(ratings_df.index[row_index])\n",
    "    \n",
    "    "
   ]
  },
  {
   "cell_type": "markdown",
   "metadata": {
    "heading_collapsed": true
   },
   "source": [
    "#Get next user id \n",
    " - get index \n",
    " - drop the row using index, inplace"
   ]
  },
  {
   "cell_type": "code",
   "execution_count": 48,
   "metadata": {
    "hidden": true
   },
   "outputs": [],
   "source": [
    "def get_next_userID():\n",
    "    sorted_userID_list  = sorted(ratings_df.userID.unique())\n",
    "    return sorted_userID_list[-1] + 1\n",
    "    "
   ]
  },
  {
   "cell_type": "code",
   "execution_count": 49,
   "metadata": {
    "hidden": true
   },
   "outputs": [],
   "source": [
    "def check_userID(userID):\n",
    "    all_number = all([letter.isdigit() for letter in userID ])\n",
    "    sorted_userID_list  = sorted(ratings_df.userID.unique())\n",
    "    if all_number == False:\n",
    "        print('not everything is a numver')\n",
    "        return False\n",
    "    elif (int(userID) not in sorted_userID_list):\n",
    "        print('not in list')\n",
    "        return False\n",
    "    else:\n",
    "        return True"
   ]
  },
  {
   "cell_type": "markdown",
   "metadata": {},
   "source": [
    "#Get Trending Score\n",
    "    - 0.3*(average_rating) + 0.7(frequecny_of_user_who_the_book)\n",
    "How to find average_rating of book?\n",
    "    - Find total rating\n",
    "        - Get all the rows with only that isbn\n",
    "        - take the sum of the rating column\n",
    "    - Find total user\n",
    "        - This gives: frequecny_of_user_who_rated_the_book\n",
    "        - Get the numbers of coloumns \n",
    "        \n",
    "Append it to a new data_frame\n",
    "\n",
    "#Get Trending Table\n",
    " - For all books in books_df\n",
    "     - Get trending_score\n",
    " - get_user_rated_books \n",
    " - In trending_table keep only books that are not in the user rated books\n",
    "     - User_rated_books['ISBN'] and trending_table['ISBN]\n",
    "     - But the userID is for the new user, user wont have rated any books at this stage\n",
    "         - Dont neeed userID \n",
    " - Return the table\n",
    "\n",
    "#Get Trending Books\n",
    "    - return books_df\n",
    "        - sorted by the order in  trending_books ISBN"
   ]
  },
  {
   "cell_type": "code",
   "execution_count": 54,
   "metadata": {},
   "outputs": [],
   "source": [
    "def get_trending_score(isbn):\n",
    "    global ratings_df\n",
    "    book_ratings = ratings_df[ratings_df.ISBN == isbn]\n",
    "    total_unique_users = len(book_ratings['userID'].unique())\n",
    "    \n",
    "    total_rating = book_ratings['bookRating'].sum()\n",
    "    average_rating = total_rating/total_unique_users\n",
    "    \n",
    "    trending_score = 0.3*average_rating + 0.7*total_unique_users\n",
    "    \n",
    "    return trending_score\n",
    "    "
   ]
  },
  {
   "cell_type": "code",
   "execution_count": 55,
   "metadata": {},
   "outputs": [],
   "source": [
    "def get_trending_table():\n",
    "    global books_df\n",
    "    global ratings_df\n",
    "    ISBN_list = books_df['ISBN']\n",
    "    trending_table = []\n",
    "    for row in range(len(ISBN_list)):\n",
    "        if row in ISBN_list:\n",
    "            isbn = ISBN_list[row]\n",
    "            trending_score = get_trending_score(isbn)\n",
    "            data = {'ISBN':isbn, 'trending_score':trending_score}\n",
    "            trending_table.append(data)\n",
    "    trending_table = pd.DataFrame(trending_table)\n",
    "    trending_table.sort_values('trending_score', ascending=False,inplace=True)\n",
    "    \n",
    "    #get all the highest trending books that user has not rated\n",
    "#     trending_table = trending_table[~trending_table['ISBN'].isin(user_rated_books['ISBN'])]\n",
    "    return trending_table\n",
    "        \n",
    " "
   ]
  },
  {
   "cell_type": "code",
   "execution_count": 56,
   "metadata": {},
   "outputs": [],
   "source": [
    "def get_trending_books():\n",
    "    trending_table = get_trending_table()\n",
    "    books_df_copy =books_df.copy()\n",
    "    books_df_copy = books_df_copy.set_index('ISBN')\n",
    "    books_df_copy = books_df_copy.reindex(index=trending_table['ISBN'])\n",
    "    books_df_copy = books_df_copy.reset_index()\n",
    "    return books_df_copy\n",
    "    \n",
    "    "
   ]
  }
 ],
 "metadata": {
  "colab": {
   "include_colab_link": true,
   "name": "SVDHomeWork.ipynb",
   "provenance": []
  },
  "kernelspec": {
   "display_name": "Python 3",
   "language": "python",
   "name": "python3"
  },
  "language_info": {
   "codemirror_mode": {
    "name": "ipython",
    "version": 3
   },
   "file_extension": ".py",
   "mimetype": "text/x-python",
   "name": "python",
   "nbconvert_exporter": "python",
   "pygments_lexer": "ipython3",
   "version": "3.7.4"
  },
  "toc": {
   "base_numbering": 1,
   "nav_menu": {},
   "number_sections": true,
   "sideBar": true,
   "skip_h1_title": false,
   "title_cell": "Table of Contents",
   "title_sidebar": "Contents",
   "toc_cell": false,
   "toc_position": {},
   "toc_section_display": true,
   "toc_window_display": false
  },
  "varInspector": {
   "cols": {
    "lenName": 16,
    "lenType": 16,
    "lenVar": 40
   },
   "kernels_config": {
    "python": {
     "delete_cmd_postfix": "",
     "delete_cmd_prefix": "del ",
     "library": "var_list.py",
     "varRefreshCmd": "print(var_dic_list())"
    },
    "r": {
     "delete_cmd_postfix": ") ",
     "delete_cmd_prefix": "rm(",
     "library": "var_list.r",
     "varRefreshCmd": "cat(var_dic_list()) "
    }
   },
   "types_to_exclude": [
    "module",
    "function",
    "builtin_function_or_method",
    "instance",
    "_Feature"
   ],
   "window_display": false
  }
 },
 "nbformat": 4,
 "nbformat_minor": 1
}
