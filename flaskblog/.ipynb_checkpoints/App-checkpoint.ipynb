{
 "cells": [
  {
   "cell_type": "markdown",
   "metadata": {
    "heading_collapsed": true
   },
   "source": [
    "#Set Up"
   ]
  },
  {
   "cell_type": "code",
   "execution_count": 1,
   "metadata": {
    "hidden": true
   },
   "outputs": [],
   "source": [
    "from flask import Flask,render_template,url_for,request, jsonify\n",
    "import pandas as pd\n",
    "import sys\n",
    "import random\n",
    "app = Flask(__name__)"
   ]
  },
  {
   "cell_type": "code",
   "execution_count": 2,
   "metadata": {
    "hidden": true
   },
   "outputs": [
    {
     "name": "stdout",
     "output_type": "stream",
     "text": [
      "importing Jupyter notebook from SVDHomeWork.ipynb\n"
     ]
    },
    {
     "name": "stderr",
     "output_type": "stream",
     "text": [
      "SVDHomeWork.ipynb:1: FutureWarning: Method .as_matrix will be removed in a future version. Use .values instead.\n",
      "  {\n"
     ]
    }
   ],
   "source": [
    "%load_ext autoreload\n",
    "%autoreload 2\n",
    "sys.path.append('/Users/sandeep/opt/anaconda3/lib/python3.7/site-packages')\n",
    "import import_ipynb\n",
    "import SVDHomeWork as database"
   ]
  },
  {
   "cell_type": "code",
   "execution_count": 3,
   "metadata": {
    "hidden": true
   },
   "outputs": [],
   "source": [
    " %reload_ext autoreload"
   ]
  },
  {
   "cell_type": "markdown",
   "metadata": {
    "heading_collapsed": true
   },
   "source": [
    "#Svd module: GET USER RECOMMENDATION AND USER RATED BOOKS \n"
   ]
  },
  {
   "cell_type": "markdown",
   "metadata": {
    "hidden": true
   },
   "source": [
    "- THIS FUNCTION RETURN A DICT WITH RECOMMENDATED RATING FOR  GIVEN USER\n",
    "    - user get_reommendation function()\n",
    "        - Takes in userID, books_df , rating_df\n",
    "        - How to get books_df, rating_df?\n",
    "            - HAVE A FUNCTION IN SVDHW THAT RETURNS THE 2 DATAFRAME\n",
    "            - THIS WILL BE THE ARGUMENTS \n",
    "    - Retrun a dict\n",
    "        -{0: {'userID': 15,\n",
    "              'ISBN': '0840748493',\n",
    "              'bookRating': 8,\n",
    "              'book_title': 'Gift Of The Blessing, The',\n",
    "              'genre': 'Religion|Inspirational'},\n",
    "         1: { 'userID': 15,\n",
    "              'ISBN': '1591856132',\n",
    "              'bookRating': 8,\n",
    "              'book_title': 'Shadowmancer',\n",
    "              'genre': 'Magic|Fantasy'}}\n",
    "         - How to access it?\n",
    "             - dict['whatFeature/Col.eg.userID']['whatRow']\n",
    "             - kinda the opposite"
   ]
  },
  {
   "cell_type": "code",
   "execution_count": 4,
   "metadata": {
    "hidden": true
   },
   "outputs": [],
   "source": [
    "def get_user_recommendation(userID):\n",
    "    books_df , ratings_df = database.get_df()\n",
    "    user_rated_books, new_books =database.get_recommendation(books_df,\n",
    "                                                             ratings_df,\n",
    "                                                             userID)\n",
    "    return new_books.to_dict('index')"
   ]
  },
  {
   "cell_type": "code",
   "execution_count": 5,
   "metadata": {
    "hidden": true
   },
   "outputs": [],
   "source": [
    "def get_user_rated_books(userID):\n",
    "    books_df , ratings_df = database.get_df()\n",
    "    user_rated_books, new_books =database.get_recommendation(books_df,\n",
    "                                                             ratings_df,\n",
    "                                                             userID)\n",
    "    return user_rated_books.to_dict('index')"
   ]
  },
  {
   "cell_type": "markdown",
   "metadata": {
    "heading_collapsed": true
   },
   "source": [
    "#Svd module: Post NEW BOOKS, USER, USER RATING, NEW USER\n",
    "- New books\n",
    "    - A BOOK ROW OBJ LOOKS LIKE THIS\n",
    "         - {'ISBN': XXXX,  'book_title': , 'genre': }\n",
    "    - MAKE A FUNCTION IN database that takes a book obj and add its the data frame\n",
    "    "
   ]
  },
  {
   "cell_type": "code",
   "execution_count": 6,
   "metadata": {
    "hidden": true
   },
   "outputs": [
    {
     "data": {
      "text/plain": [
       "{560: {'ISBN': '0805073337',\n",
       "  'book_title': 'What Was She Thinking?: Notes on a Scandal: A Novel',\n",
       "  'genre': 'Literary Collections'},\n",
       " 425: {'ISBN': '0671721135',\n",
       "  'book_title': 'THROUGH THE ICE',\n",
       "  'genre': \"Children's Fiction|Science Fiction|Fantasy|Magic\"},\n",
       " 1616: {'ISBN': '0679404864',\n",
       "  'book_title': \"Dave Barry's Guide to Guys: A Fairly Short Book\",\n",
       "  'genre': 'Men--Humor'},\n",
       " 1020: {'ISBN': '0689859368',\n",
       "  'book_title': 'The Field Guide (The Spiderwick Chronicles, Book 1)',\n",
       "  'genre': 'Fairies|Brothers And Sisters|Single-parent Families'},\n",
       " 24: {'ISBN': '156619024X',\n",
       "  'book_title': 'Jane Eyre',\n",
       "  'genre': 'Literary Collections'},\n",
       " 1863: {'ISBN': '0380978954',\n",
       "  'book_title': 'The Truth: A Novel of Discworld',\n",
       "  'genre': 'Discworld (Imaginary place)|Discworld (Imaginary place)--Fiction|Newspaper publishing|Newspaper publishing--Fiction|Journalists|Journalists--Fiction'},\n",
       " 758: {'ISBN': '0140430784',\n",
       "  'book_title': 'Pickwick Club: Posthumous Papers (Penguin English Library)',\n",
       "  'genre': 'Men--Societies and clubs|Men--Societies and clubs--Fiction|Male friendship|Male friendship--Fiction'},\n",
       " 2141: {'ISBN': '0746016719',\n",
       "  'book_title': \"Fangtastic Adventures of Dracula's Dentures (Rhyming Stories Series)\",\n",
       "  'genre': 'Literary Collections'},\n",
       " 880: {'ISBN': '0671207148',\n",
       "  'book_title': 'JOHNSTOWN FLOOD',\n",
       "  'genre': 'Floods|Floods--Pennsylvania--Johnstown|Floods--Pennsylvania--Johnstown (Cambria County)|History'},\n",
       " 1448: {'ISBN': '0553582534',\n",
       "  'book_title': 'Temporary Mistress (St. John-Duras)',\n",
       "  'genre': 'Romantic Fiction Themes'}}"
      ]
     },
     "execution_count": 6,
     "metadata": {},
     "output_type": "execute_result"
    }
   ],
   "source": [
    "a = get_user_recommendation(15); a"
   ]
  },
  {
   "cell_type": "code",
   "execution_count": 7,
   "metadata": {
    "hidden": true
   },
   "outputs": [
    {
     "data": {
      "text/plain": [
       "{560: {'ISBN': '0805073337',\n",
       "  'book_title': 'What Was She Thinking?: Notes on a Scandal: A Novel',\n",
       "  'genre': 'Literary Collections'},\n",
       " 425: {'ISBN': '0671721135',\n",
       "  'book_title': 'THROUGH THE ICE',\n",
       "  'genre': \"Children's Fiction|Science Fiction|Fantasy|Magic\"},\n",
       " 1616: {'ISBN': '0679404864',\n",
       "  'book_title': \"Dave Barry's Guide to Guys: A Fairly Short Book\",\n",
       "  'genre': 'Men--Humor'},\n",
       " 1020: {'ISBN': '0689859368',\n",
       "  'book_title': 'The Field Guide (The Spiderwick Chronicles, Book 1)',\n",
       "  'genre': 'Fairies|Brothers And Sisters|Single-parent Families'},\n",
       " 1864: {'ISBN': '0380978954',\n",
       "  'book_title': 'The Truth: A Novel of Discworld',\n",
       "  'genre': 'Discworld (Imaginary place)|Discworld (Imaginary place)--Fiction|Newspaper publishing|Newspaper publishing--Fiction|Journalists|Journalists--Fiction'},\n",
       " 24: {'ISBN': '156619024X',\n",
       "  'book_title': 'Jane Eyre',\n",
       "  'genre': 'Literary Collections'},\n",
       " 758: {'ISBN': '0140430784',\n",
       "  'book_title': 'Pickwick Club: Posthumous Papers (Penguin English Library)',\n",
       "  'genre': 'Men--Societies and clubs|Men--Societies and clubs--Fiction|Male friendship|Male friendship--Fiction'},\n",
       " 2142: {'ISBN': '0746016719',\n",
       "  'book_title': \"Fangtastic Adventures of Dracula's Dentures (Rhyming Stories Series)\",\n",
       "  'genre': 'Literary Collections'},\n",
       " 880: {'ISBN': '0671207148',\n",
       "  'book_title': 'JOHNSTOWN FLOOD',\n",
       "  'genre': 'Floods|Floods--Pennsylvania--Johnstown|Floods--Pennsylvania--Johnstown (Cambria County)|History'},\n",
       " 1448: {'ISBN': '0553582534',\n",
       "  'book_title': 'Temporary Mistress (St. John-Duras)',\n",
       "  'genre': 'Romantic Fiction Themes'}}"
      ]
     },
     "execution_count": 7,
     "metadata": {},
     "output_type": "execute_result"
    }
   ],
   "source": [
    "b=get_user_recommendation(19);b"
   ]
  },
  {
   "cell_type": "markdown",
   "metadata": {},
   "source": [
    "#Flask"
   ]
  },
  {
   "cell_type": "code",
   "execution_count": 8,
   "metadata": {},
   "outputs": [],
   "source": [
    "@app.route(\"/\")\n",
    "def home():\n",
    "    return render_template('home.html')"
   ]
  },
  {
   "cell_type": "code",
   "execution_count": 9,
   "metadata": {},
   "outputs": [],
   "source": [
    "@app.route(\"/history\", methods=['POST'])\n",
    "def get_history_page():\n",
    "    userID = int(request.form['userID'])\n",
    "    rated_books = get_user_rated_books(userID)\n",
    "    if len(rated_books) ==0 :\n",
    "        data = jsonify({'error':'You have not rated any books.'})\n",
    "    else:\n",
    "        data = jsonify({'datax':render_template('history.html' , posts=rated_books)\n",
    "                       })\n",
    "    return data\n",
    "    "
   ]
  },
  {
   "cell_type": "code",
   "execution_count": 10,
   "metadata": {},
   "outputs": [],
   "source": [
    "@app.route(\"/swap_user\",methods = ['POST'])\n",
    "def swap_user():\n",
    "    userID = request.form['userID']\n",
    "    exist = database.check_userID(userID)\n",
    "    \n",
    "    print(f'{exist},{userID}')\n",
    "    if exist:\n",
    "        template = render_template('recommend.html',\n",
    "                                   data=get_user_recommendation(int(userID))\n",
    "                                  )\n",
    "    \n",
    "        data = jsonify({'datax':template})\n",
    "    else:\n",
    "        data = jsonify({'error': 'UserID does not exist in the database'})\n",
    "    return data"
   ]
  },
  {
   "cell_type": "code",
   "execution_count": 11,
   "metadata": {},
   "outputs": [],
   "source": [
    "@app.route(\"/browse\",methods = ['POST'])\n",
    "def browse(userID=None):\n",
    "    if userID == None:\n",
    "        userID = int(request.form['userID'])\n",
    "    random_unseen_books = database.get_random_unseen_books(userID);\n",
    "    random_unseen_books = random_unseen_books.to_dict('index');\n",
    "    keys = list(random_unseen_books.keys())\n",
    "    keys = keys[0:8] \n",
    "    random.shuffle(keys)\n",
    "    data = {}\n",
    "    for key in keys:\n",
    "        data[key] = random_unseen_books[key]\n",
    "    template = render_template('recommend.html', \n",
    "                              data = data )\n",
    "    return jsonify({'datax':template})\n",
    "    \n",
    "    "
   ]
  },
  {
   "cell_type": "code",
   "execution_count": 12,
   "metadata": {},
   "outputs": [],
   "source": [
    "@app.route(\"/submit_rating\", methods=['POST'])\n",
    "def submit_rating():\n",
    "    userID = int(request.form['userID'])\n",
    "    ISBN = request.form['ISBN']\n",
    "    bookRating = int(request.form['rating_value'])\n",
    "    rating_obj = {'userID':userID,'ISBN':ISBN,'bookRating':bookRating}\n",
    "    \n",
    "    database.post_book_rating(rating_obj)\n",
    "    database.redo_SVD()\n",
    "    \n",
    "    exist = database.check_userID(str(userID))\n",
    "    if exist:\n",
    "        template = render_template('recommend.html',\n",
    "                                   data=get_user_recommendation(int(userID))\n",
    "                                  )\n",
    "        template2 = render_template('history.html' ,\n",
    "                                    posts=get_user_rated_books(int(userID)))\n",
    "    \n",
    "        data = jsonify({'recommended_books':template , 'history_books':template2})\n",
    "    else:\n",
    "        data = jsonify({'error': 'UserID does not exist in the database'})\n",
    "    return data\n",
    "    \n",
    "    "
   ]
  },
  {
   "cell_type": "code",
   "execution_count": 13,
   "metadata": {},
   "outputs": [
    {
     "name": "stdout",
     "output_type": "stream",
     "text": [
      " * Serving Flask app \"__main__\" (lazy loading)\n",
      " * Environment: production\n",
      "   WARNING: This is a development server. Do not use it in a production deployment.\n",
      "   Use a production WSGI server instead.\n",
      " * Debug mode: off\n"
     ]
    },
    {
     "name": "stderr",
     "output_type": "stream",
     "text": [
      " * Running on http://127.0.0.1:5000/ (Press CTRL+C to quit)\n",
      "127.0.0.1 - - [26/Nov/2019 13:50:25] \"GET / HTTP/1.1\" 200 -\n",
      "127.0.0.1 - - [26/Nov/2019 13:50:30] \"GET / HTTP/1.1\" 200 -\n",
      "127.0.0.1 - - [26/Nov/2019 13:50:30] \"GET /static/js/form.js HTTP/1.1\" 200 -\n",
      "127.0.0.1 - - [26/Nov/2019 13:50:30] \"GET /static/main.css HTTP/1.1\" 200 -\n",
      "127.0.0.1 - - [26/Nov/2019 13:50:30] \"GET / HTTP/1.1\" 200 -\n",
      "127.0.0.1 - - [26/Nov/2019 13:50:30] \"GET /static/js/form.js HTTP/1.1\" 200 -\n",
      "127.0.0.1 - - [26/Nov/2019 13:50:30] \"GET /static/main.css HTTP/1.1\" 200 -\n",
      "127.0.0.1 - - [26/Nov/2019 13:50:30] \"GET / HTTP/1.1\" 200 -\n",
      "127.0.0.1 - - [26/Nov/2019 13:50:30] \"GET /static/main.css HTTP/1.1\" 200 -\n",
      "127.0.0.1 - - [26/Nov/2019 13:50:30] \"GET /static/js/form.js HTTP/1.1\" 200 -\n",
      "127.0.0.1 - - [26/Nov/2019 13:50:30] \"GET /favicon.ico HTTP/1.1\" 404 -\n",
      "127.0.0.1 - - [26/Nov/2019 13:50:32] \"POST /swap_user HTTP/1.1\" 200 -\n"
     ]
    },
    {
     "name": "stdout",
     "output_type": "stream",
     "text": [
      "True,12\n"
     ]
    },
    {
     "name": "stderr",
     "output_type": "stream",
     "text": [
      "SVDHomeWork.ipynb:7: FutureWarning: Method .as_matrix will be removed in a future version. Use .values instead.\n",
      "  \"id\": \"view-in-github\"\n",
      "127.0.0.1 - - [26/Nov/2019 13:50:36] \"POST /submit_rating HTTP/1.1\" 200 -\n",
      "127.0.0.1 - - [26/Nov/2019 13:50:44] \"POST /history HTTP/1.1\" 200 -\n",
      "127.0.0.1 - - [26/Nov/2019 13:50:51] \"POST /swap_user HTTP/1.1\" 200 -\n"
     ]
    },
    {
     "name": "stdout",
     "output_type": "stream",
     "text": [
      "True,12\n"
     ]
    },
    {
     "name": "stderr",
     "output_type": "stream",
     "text": [
      "127.0.0.1 - - [26/Nov/2019 13:51:03] \"POST /submit_rating HTTP/1.1\" 200 -\n",
      "127.0.0.1 - - [26/Nov/2019 13:51:08] \"POST /history HTTP/1.1\" 200 -\n",
      "127.0.0.1 - - [26/Nov/2019 13:51:56] \"POST /swap_user HTTP/1.1\" 200 -\n"
     ]
    },
    {
     "name": "stdout",
     "output_type": "stream",
     "text": [
      "True,12\n"
     ]
    },
    {
     "name": "stderr",
     "output_type": "stream",
     "text": [
      "127.0.0.1 - - [26/Nov/2019 13:52:03] \"POST /swap_user HTTP/1.1\" 200 -\n"
     ]
    },
    {
     "name": "stdout",
     "output_type": "stream",
     "text": [
      "True,12\n"
     ]
    },
    {
     "name": "stderr",
     "output_type": "stream",
     "text": [
      "127.0.0.1 - - [26/Nov/2019 13:53:27] \"POST /history HTTP/1.1\" 200 -\n",
      "127.0.0.1 - - [26/Nov/2019 13:53:29] \"POST /swap_user HTTP/1.1\" 200 -\n"
     ]
    },
    {
     "name": "stdout",
     "output_type": "stream",
     "text": [
      "True,12\n"
     ]
    },
    {
     "name": "stderr",
     "output_type": "stream",
     "text": [
      "127.0.0.1 - - [26/Nov/2019 13:53:39] \"POST /history HTTP/1.1\" 200 -\n",
      "127.0.0.1 - - [26/Nov/2019 13:53:44] \"POST /swap_user HTTP/1.1\" 200 -\n"
     ]
    },
    {
     "name": "stdout",
     "output_type": "stream",
     "text": [
      "True,12\n"
     ]
    },
    {
     "name": "stderr",
     "output_type": "stream",
     "text": [
      "127.0.0.1 - - [26/Nov/2019 13:56:55] \"POST /browse HTTP/1.1\" 200 -\n",
      "[2019-11-26 13:57:01,905] ERROR in app: Exception on /submit_rating [POST]\n",
      "Traceback (most recent call last):\n",
      "  File \"/Library/Frameworks/Python.framework/Versions/3.7/lib/python3.7/site-packages/flask/app.py\", line 2446, in wsgi_app\n",
      "    response = self.full_dispatch_request()\n",
      "  File \"/Library/Frameworks/Python.framework/Versions/3.7/lib/python3.7/site-packages/flask/app.py\", line 1951, in full_dispatch_request\n",
      "    rv = self.handle_user_exception(e)\n",
      "  File \"/Library/Frameworks/Python.framework/Versions/3.7/lib/python3.7/site-packages/flask/app.py\", line 1820, in handle_user_exception\n",
      "    reraise(exc_type, exc_value, tb)\n",
      "  File \"/Library/Frameworks/Python.framework/Versions/3.7/lib/python3.7/site-packages/flask/_compat.py\", line 39, in reraise\n",
      "    raise value\n",
      "  File \"/Library/Frameworks/Python.framework/Versions/3.7/lib/python3.7/site-packages/flask/app.py\", line 1949, in full_dispatch_request\n",
      "    rv = self.dispatch_request()\n",
      "  File \"/Library/Frameworks/Python.framework/Versions/3.7/lib/python3.7/site-packages/flask/app.py\", line 1935, in dispatch_request\n",
      "    return self.view_functions[rule.endpoint](**req.view_args)\n",
      "  File \"<ipython-input-12-2a7ffc58b42d>\", line 8, in submit_rating\n",
      "    database.post_book_rating(rating_obj)\n",
      "  File \"<string>\", line 6, in post_book_rating\n",
      "  File \"/Library/Frameworks/Python.framework/Versions/3.7/lib/python3.7/site-packages/pandas/core/frame.py\", line 5919, in pivot\n",
      "    return pivot(self, index=index, columns=columns, values=values)\n",
      "  File \"/Library/Frameworks/Python.framework/Versions/3.7/lib/python3.7/site-packages/pandas/core/reshape/pivot.py\", line 430, in pivot\n",
      "    return indexed.unstack(columns)\n",
      "  File \"/Library/Frameworks/Python.framework/Versions/3.7/lib/python3.7/site-packages/pandas/core/series.py\", line 3745, in unstack\n",
      "    return unstack(self, level, fill_value)\n",
      "  File \"/Library/Frameworks/Python.framework/Versions/3.7/lib/python3.7/site-packages/pandas/core/reshape/reshape.py\", line 423, in unstack\n",
      "    constructor=obj._constructor_expanddim,\n",
      "  File \"/Library/Frameworks/Python.framework/Versions/3.7/lib/python3.7/site-packages/pandas/core/reshape/reshape.py\", line 142, in __init__\n",
      "    self._make_selectors()\n",
      "  File \"/Library/Frameworks/Python.framework/Versions/3.7/lib/python3.7/site-packages/pandas/core/reshape/reshape.py\", line 180, in _make_selectors\n",
      "    raise ValueError(\"Index contains duplicate entries, \" \"cannot reshape\")\n",
      "ValueError: Index contains duplicate entries, cannot reshape\n",
      "127.0.0.1 - - [26/Nov/2019 13:57:01] \"POST /submit_rating HTTP/1.1\" 500 -\n",
      "[2019-11-26 13:57:04,019] ERROR in app: Exception on /submit_rating [POST]\n",
      "Traceback (most recent call last):\n",
      "  File \"/Library/Frameworks/Python.framework/Versions/3.7/lib/python3.7/site-packages/flask/app.py\", line 2446, in wsgi_app\n",
      "    response = self.full_dispatch_request()\n",
      "  File \"/Library/Frameworks/Python.framework/Versions/3.7/lib/python3.7/site-packages/flask/app.py\", line 1951, in full_dispatch_request\n",
      "    rv = self.handle_user_exception(e)\n",
      "  File \"/Library/Frameworks/Python.framework/Versions/3.7/lib/python3.7/site-packages/flask/app.py\", line 1820, in handle_user_exception\n",
      "    reraise(exc_type, exc_value, tb)\n",
      "  File \"/Library/Frameworks/Python.framework/Versions/3.7/lib/python3.7/site-packages/flask/_compat.py\", line 39, in reraise\n",
      "    raise value\n",
      "  File \"/Library/Frameworks/Python.framework/Versions/3.7/lib/python3.7/site-packages/flask/app.py\", line 1949, in full_dispatch_request\n",
      "    rv = self.dispatch_request()\n",
      "  File \"/Library/Frameworks/Python.framework/Versions/3.7/lib/python3.7/site-packages/flask/app.py\", line 1935, in dispatch_request\n",
      "    return self.view_functions[rule.endpoint](**req.view_args)\n",
      "  File \"<ipython-input-12-2a7ffc58b42d>\", line 8, in submit_rating\n",
      "    database.post_book_rating(rating_obj)\n",
      "  File \"<string>\", line 6, in post_book_rating\n",
      "  File \"/Library/Frameworks/Python.framework/Versions/3.7/lib/python3.7/site-packages/pandas/core/frame.py\", line 5919, in pivot\n",
      "    return pivot(self, index=index, columns=columns, values=values)\n",
      "  File \"/Library/Frameworks/Python.framework/Versions/3.7/lib/python3.7/site-packages/pandas/core/reshape/pivot.py\", line 430, in pivot\n",
      "    return indexed.unstack(columns)\n",
      "  File \"/Library/Frameworks/Python.framework/Versions/3.7/lib/python3.7/site-packages/pandas/core/series.py\", line 3745, in unstack\n",
      "    return unstack(self, level, fill_value)\n",
      "  File \"/Library/Frameworks/Python.framework/Versions/3.7/lib/python3.7/site-packages/pandas/core/reshape/reshape.py\", line 423, in unstack\n",
      "    constructor=obj._constructor_expanddim,\n",
      "  File \"/Library/Frameworks/Python.framework/Versions/3.7/lib/python3.7/site-packages/pandas/core/reshape/reshape.py\", line 142, in __init__\n",
      "    self._make_selectors()\n",
      "  File \"/Library/Frameworks/Python.framework/Versions/3.7/lib/python3.7/site-packages/pandas/core/reshape/reshape.py\", line 180, in _make_selectors\n",
      "    raise ValueError(\"Index contains duplicate entries, \" \"cannot reshape\")\n",
      "ValueError: Index contains duplicate entries, cannot reshape\n",
      "127.0.0.1 - - [26/Nov/2019 13:57:04] \"POST /submit_rating HTTP/1.1\" 500 -\n"
     ]
    }
   ],
   "source": [
    "if __name__ == '__main__':\n",
    "    app.run()"
   ]
  },
  {
   "cell_type": "markdown",
   "metadata": {},
   "source": [
    "#Test"
   ]
  },
  {
   "cell_type": "code",
   "execution_count": 14,
   "metadata": {
    "scrolled": true
   },
   "outputs": [
    {
     "data": {
      "text/plain": [
       "{0: {'userID': 1,\n",
       "  'ISBN': '0399518118',\n",
       "  'bookRating': 5,\n",
       "  'book_title': 'Heloise: Household Hints for Singles',\n",
       "  'genre': 'Home economics|Single people--Life skills guides'}}"
      ]
     },
     "execution_count": 14,
     "metadata": {},
     "output_type": "execute_result"
    }
   ],
   "source": [
    "get_user_rated_books(1)"
   ]
  },
  {
   "cell_type": "code",
   "execution_count": 15,
   "metadata": {},
   "outputs": [
    {
     "data": {
      "text/plain": [
       "{560: {'ISBN': '0805073337',\n",
       "  'book_title': 'What Was She Thinking?: Notes on a Scandal: A Novel',\n",
       "  'genre': 'Literary Collections'},\n",
       " 425: {'ISBN': '0671721135',\n",
       "  'book_title': 'THROUGH THE ICE',\n",
       "  'genre': \"Children's Fiction|Science Fiction|Fantasy|Magic\"},\n",
       " 1617: {'ISBN': '0679404864',\n",
       "  'book_title': \"Dave Barry's Guide to Guys: A Fairly Short Book\",\n",
       "  'genre': 'Men--Humor'},\n",
       " 1021: {'ISBN': '0689859368',\n",
       "  'book_title': 'The Field Guide (The Spiderwick Chronicles, Book 1)',\n",
       "  'genre': 'Fairies|Brothers And Sisters|Single-parent Families'},\n",
       " 1865: {'ISBN': '0380978954',\n",
       "  'book_title': 'The Truth: A Novel of Discworld',\n",
       "  'genre': 'Discworld (Imaginary place)|Discworld (Imaginary place)--Fiction|Newspaper publishing|Newspaper publishing--Fiction|Journalists|Journalists--Fiction'},\n",
       " 24: {'ISBN': '156619024X',\n",
       "  'book_title': 'Jane Eyre',\n",
       "  'genre': 'Literary Collections'},\n",
       " 758: {'ISBN': '0140430784',\n",
       "  'book_title': 'Pickwick Club: Posthumous Papers (Penguin English Library)',\n",
       "  'genre': 'Men--Societies and clubs|Men--Societies and clubs--Fiction|Male friendship|Male friendship--Fiction'},\n",
       " 2142: {'ISBN': '0746016719',\n",
       "  'book_title': \"Fangtastic Adventures of Dracula's Dentures (Rhyming Stories Series)\",\n",
       "  'genre': 'Literary Collections'},\n",
       " 880: {'ISBN': '0671207148',\n",
       "  'book_title': 'JOHNSTOWN FLOOD',\n",
       "  'genre': 'Floods|Floods--Pennsylvania--Johnstown|Floods--Pennsylvania--Johnstown (Cambria County)|History'},\n",
       " 340: {'ISBN': '051720679X',\n",
       "  'book_title': 'Three Complete Novels: \\\\A\\\\\" Is for Alibi / \\\\\"B\\\\\" Is for Burglar / \\\\\"C\\\\\" Is for Corpse\"',\n",
       "  'genre': 'Fiction|Mystery & Detective'}}"
      ]
     },
     "execution_count": 15,
     "metadata": {},
     "output_type": "execute_result"
    }
   ],
   "source": [
    "get_user_recommendation(1)"
   ]
  },
  {
   "cell_type": "code",
   "execution_count": 16,
   "metadata": {},
   "outputs": [
    {
     "ename": "ValueError",
     "evalue": "Index contains duplicate entries, cannot reshape",
     "output_type": "error",
     "traceback": [
      "\u001b[0;31m---------------------------------------------------------------------------\u001b[0m",
      "\u001b[0;31mValueError\u001b[0m                                Traceback (most recent call last)",
      "\u001b[0;32m<ipython-input-16-d1c8cd464d6b>\u001b[0m in \u001b[0;36m<module>\u001b[0;34m\u001b[0m\n\u001b[1;32m      1\u001b[0m \u001b[0mrating_obj\u001b[0m \u001b[0;34m=\u001b[0m \u001b[0;34m{\u001b[0m\u001b[0;34m'userID'\u001b[0m\u001b[0;34m:\u001b[0m\u001b[0;36m1\u001b[0m\u001b[0;34m,\u001b[0m\u001b[0;34m'ISBN'\u001b[0m\u001b[0;34m:\u001b[0m\u001b[0;34m'156619024X'\u001b[0m\u001b[0;34m,\u001b[0m\u001b[0;34m'bookRating'\u001b[0m\u001b[0;34m:\u001b[0m\u001b[0;36m10\u001b[0m\u001b[0;34m}\u001b[0m\u001b[0;34m\u001b[0m\u001b[0;34m\u001b[0m\u001b[0m\n\u001b[0;32m----> 2\u001b[0;31m \u001b[0mdatabase\u001b[0m\u001b[0;34m.\u001b[0m\u001b[0mpost_book_rating\u001b[0m\u001b[0;34m(\u001b[0m\u001b[0mrating_obj\u001b[0m\u001b[0;34m)\u001b[0m\u001b[0;34m\u001b[0m\u001b[0;34m\u001b[0m\u001b[0m\n\u001b[0m\u001b[1;32m      3\u001b[0m \u001b[0mdatabase\u001b[0m\u001b[0;34m.\u001b[0m\u001b[0mredo_SVD\u001b[0m\u001b[0;34m(\u001b[0m\u001b[0;34m)\u001b[0m\u001b[0;34m\u001b[0m\u001b[0;34m\u001b[0m\u001b[0m\n",
      "\u001b[0;32m~/Desktop/Homework2019/WebtechHomework/Webtech/flaskblog/SVDHomeWork.ipynb\u001b[0m in \u001b[0;36mpost_book_rating\u001b[0;34m(rating_obj)\u001b[0m\n",
      "\u001b[0;32m/Library/Frameworks/Python.framework/Versions/3.7/lib/python3.7/site-packages/pandas/core/frame.py\u001b[0m in \u001b[0;36mpivot\u001b[0;34m(self, index, columns, values)\u001b[0m\n\u001b[1;32m   5917\u001b[0m         \u001b[0;32mfrom\u001b[0m \u001b[0mpandas\u001b[0m\u001b[0;34m.\u001b[0m\u001b[0mcore\u001b[0m\u001b[0;34m.\u001b[0m\u001b[0mreshape\u001b[0m\u001b[0;34m.\u001b[0m\u001b[0mpivot\u001b[0m \u001b[0;32mimport\u001b[0m \u001b[0mpivot\u001b[0m\u001b[0;34m\u001b[0m\u001b[0;34m\u001b[0m\u001b[0m\n\u001b[1;32m   5918\u001b[0m \u001b[0;34m\u001b[0m\u001b[0m\n\u001b[0;32m-> 5919\u001b[0;31m         \u001b[0;32mreturn\u001b[0m \u001b[0mpivot\u001b[0m\u001b[0;34m(\u001b[0m\u001b[0mself\u001b[0m\u001b[0;34m,\u001b[0m \u001b[0mindex\u001b[0m\u001b[0;34m=\u001b[0m\u001b[0mindex\u001b[0m\u001b[0;34m,\u001b[0m \u001b[0mcolumns\u001b[0m\u001b[0;34m=\u001b[0m\u001b[0mcolumns\u001b[0m\u001b[0;34m,\u001b[0m \u001b[0mvalues\u001b[0m\u001b[0;34m=\u001b[0m\u001b[0mvalues\u001b[0m\u001b[0;34m)\u001b[0m\u001b[0;34m\u001b[0m\u001b[0;34m\u001b[0m\u001b[0m\n\u001b[0m\u001b[1;32m   5920\u001b[0m \u001b[0;34m\u001b[0m\u001b[0m\n\u001b[1;32m   5921\u001b[0m     _shared_docs[\n",
      "\u001b[0;32m/Library/Frameworks/Python.framework/Versions/3.7/lib/python3.7/site-packages/pandas/core/reshape/pivot.py\u001b[0m in \u001b[0;36mpivot\u001b[0;34m(data, index, columns, values)\u001b[0m\n\u001b[1;32m    428\u001b[0m         \u001b[0;32melse\u001b[0m\u001b[0;34m:\u001b[0m\u001b[0;34m\u001b[0m\u001b[0;34m\u001b[0m\u001b[0m\n\u001b[1;32m    429\u001b[0m             \u001b[0mindexed\u001b[0m \u001b[0;34m=\u001b[0m \u001b[0mdata\u001b[0m\u001b[0;34m.\u001b[0m\u001b[0m_constructor_sliced\u001b[0m\u001b[0;34m(\u001b[0m\u001b[0mdata\u001b[0m\u001b[0;34m[\u001b[0m\u001b[0mvalues\u001b[0m\u001b[0;34m]\u001b[0m\u001b[0;34m.\u001b[0m\u001b[0mvalues\u001b[0m\u001b[0;34m,\u001b[0m \u001b[0mindex\u001b[0m\u001b[0;34m=\u001b[0m\u001b[0mindex\u001b[0m\u001b[0;34m)\u001b[0m\u001b[0;34m\u001b[0m\u001b[0;34m\u001b[0m\u001b[0m\n\u001b[0;32m--> 430\u001b[0;31m     \u001b[0;32mreturn\u001b[0m \u001b[0mindexed\u001b[0m\u001b[0;34m.\u001b[0m\u001b[0munstack\u001b[0m\u001b[0;34m(\u001b[0m\u001b[0mcolumns\u001b[0m\u001b[0;34m)\u001b[0m\u001b[0;34m\u001b[0m\u001b[0;34m\u001b[0m\u001b[0m\n\u001b[0m\u001b[1;32m    431\u001b[0m \u001b[0;34m\u001b[0m\u001b[0m\n\u001b[1;32m    432\u001b[0m \u001b[0;34m\u001b[0m\u001b[0m\n",
      "\u001b[0;32m/Library/Frameworks/Python.framework/Versions/3.7/lib/python3.7/site-packages/pandas/core/series.py\u001b[0m in \u001b[0;36munstack\u001b[0;34m(self, level, fill_value)\u001b[0m\n\u001b[1;32m   3743\u001b[0m         \u001b[0;32mfrom\u001b[0m \u001b[0mpandas\u001b[0m\u001b[0;34m.\u001b[0m\u001b[0mcore\u001b[0m\u001b[0;34m.\u001b[0m\u001b[0mreshape\u001b[0m\u001b[0;34m.\u001b[0m\u001b[0mreshape\u001b[0m \u001b[0;32mimport\u001b[0m \u001b[0munstack\u001b[0m\u001b[0;34m\u001b[0m\u001b[0;34m\u001b[0m\u001b[0m\n\u001b[1;32m   3744\u001b[0m \u001b[0;34m\u001b[0m\u001b[0m\n\u001b[0;32m-> 3745\u001b[0;31m         \u001b[0;32mreturn\u001b[0m \u001b[0munstack\u001b[0m\u001b[0;34m(\u001b[0m\u001b[0mself\u001b[0m\u001b[0;34m,\u001b[0m \u001b[0mlevel\u001b[0m\u001b[0;34m,\u001b[0m \u001b[0mfill_value\u001b[0m\u001b[0;34m)\u001b[0m\u001b[0;34m\u001b[0m\u001b[0;34m\u001b[0m\u001b[0m\n\u001b[0m\u001b[1;32m   3746\u001b[0m \u001b[0;34m\u001b[0m\u001b[0m\n\u001b[1;32m   3747\u001b[0m     \u001b[0;31m# ----------------------------------------------------------------------\u001b[0m\u001b[0;34m\u001b[0m\u001b[0;34m\u001b[0m\u001b[0;34m\u001b[0m\u001b[0m\n",
      "\u001b[0;32m/Library/Frameworks/Python.framework/Versions/3.7/lib/python3.7/site-packages/pandas/core/reshape/reshape.py\u001b[0m in \u001b[0;36munstack\u001b[0;34m(obj, level, fill_value)\u001b[0m\n\u001b[1;32m    421\u001b[0m             \u001b[0mlevel\u001b[0m\u001b[0;34m=\u001b[0m\u001b[0mlevel\u001b[0m\u001b[0;34m,\u001b[0m\u001b[0;34m\u001b[0m\u001b[0;34m\u001b[0m\u001b[0m\n\u001b[1;32m    422\u001b[0m             \u001b[0mfill_value\u001b[0m\u001b[0;34m=\u001b[0m\u001b[0mfill_value\u001b[0m\u001b[0;34m,\u001b[0m\u001b[0;34m\u001b[0m\u001b[0;34m\u001b[0m\u001b[0m\n\u001b[0;32m--> 423\u001b[0;31m             \u001b[0mconstructor\u001b[0m\u001b[0;34m=\u001b[0m\u001b[0mobj\u001b[0m\u001b[0;34m.\u001b[0m\u001b[0m_constructor_expanddim\u001b[0m\u001b[0;34m,\u001b[0m\u001b[0;34m\u001b[0m\u001b[0;34m\u001b[0m\u001b[0m\n\u001b[0m\u001b[1;32m    424\u001b[0m         )\n\u001b[1;32m    425\u001b[0m         \u001b[0;32mreturn\u001b[0m \u001b[0munstacker\u001b[0m\u001b[0;34m.\u001b[0m\u001b[0mget_result\u001b[0m\u001b[0;34m(\u001b[0m\u001b[0;34m)\u001b[0m\u001b[0;34m\u001b[0m\u001b[0;34m\u001b[0m\u001b[0m\n",
      "\u001b[0;32m/Library/Frameworks/Python.framework/Versions/3.7/lib/python3.7/site-packages/pandas/core/reshape/reshape.py\u001b[0m in \u001b[0;36m__init__\u001b[0;34m(self, values, index, level, value_columns, fill_value, constructor)\u001b[0m\n\u001b[1;32m    140\u001b[0m \u001b[0;34m\u001b[0m\u001b[0m\n\u001b[1;32m    141\u001b[0m         \u001b[0mself\u001b[0m\u001b[0;34m.\u001b[0m\u001b[0m_make_sorted_values_labels\u001b[0m\u001b[0;34m(\u001b[0m\u001b[0;34m)\u001b[0m\u001b[0;34m\u001b[0m\u001b[0;34m\u001b[0m\u001b[0m\n\u001b[0;32m--> 142\u001b[0;31m         \u001b[0mself\u001b[0m\u001b[0;34m.\u001b[0m\u001b[0m_make_selectors\u001b[0m\u001b[0;34m(\u001b[0m\u001b[0;34m)\u001b[0m\u001b[0;34m\u001b[0m\u001b[0;34m\u001b[0m\u001b[0m\n\u001b[0m\u001b[1;32m    143\u001b[0m \u001b[0;34m\u001b[0m\u001b[0m\n\u001b[1;32m    144\u001b[0m     \u001b[0;32mdef\u001b[0m \u001b[0m_make_sorted_values_labels\u001b[0m\u001b[0;34m(\u001b[0m\u001b[0mself\u001b[0m\u001b[0;34m)\u001b[0m\u001b[0;34m:\u001b[0m\u001b[0;34m\u001b[0m\u001b[0;34m\u001b[0m\u001b[0m\n",
      "\u001b[0;32m/Library/Frameworks/Python.framework/Versions/3.7/lib/python3.7/site-packages/pandas/core/reshape/reshape.py\u001b[0m in \u001b[0;36m_make_selectors\u001b[0;34m(self)\u001b[0m\n\u001b[1;32m    178\u001b[0m \u001b[0;34m\u001b[0m\u001b[0m\n\u001b[1;32m    179\u001b[0m         \u001b[0;32mif\u001b[0m \u001b[0mmask\u001b[0m\u001b[0;34m.\u001b[0m\u001b[0msum\u001b[0m\u001b[0;34m(\u001b[0m\u001b[0;34m)\u001b[0m \u001b[0;34m<\u001b[0m \u001b[0mlen\u001b[0m\u001b[0;34m(\u001b[0m\u001b[0mself\u001b[0m\u001b[0;34m.\u001b[0m\u001b[0mindex\u001b[0m\u001b[0;34m)\u001b[0m\u001b[0;34m:\u001b[0m\u001b[0;34m\u001b[0m\u001b[0;34m\u001b[0m\u001b[0m\n\u001b[0;32m--> 180\u001b[0;31m             \u001b[0;32mraise\u001b[0m \u001b[0mValueError\u001b[0m\u001b[0;34m(\u001b[0m\u001b[0;34m\"Index contains duplicate entries, \"\u001b[0m \u001b[0;34m\"cannot reshape\"\u001b[0m\u001b[0;34m)\u001b[0m\u001b[0;34m\u001b[0m\u001b[0;34m\u001b[0m\u001b[0m\n\u001b[0m\u001b[1;32m    181\u001b[0m \u001b[0;34m\u001b[0m\u001b[0m\n\u001b[1;32m    182\u001b[0m         \u001b[0mself\u001b[0m\u001b[0;34m.\u001b[0m\u001b[0mgroup_index\u001b[0m \u001b[0;34m=\u001b[0m \u001b[0mcomp_index\u001b[0m\u001b[0;34m\u001b[0m\u001b[0;34m\u001b[0m\u001b[0m\n",
      "\u001b[0;31mValueError\u001b[0m: Index contains duplicate entries, cannot reshape"
     ]
    }
   ],
   "source": [
    "rating_obj = {'userID':1,'ISBN':'156619024X','bookRating':10}\n",
    "database.post_book_rating(rating_obj)\n",
    "database.redo_SVD()"
   ]
  },
  {
   "cell_type": "code",
   "execution_count": null,
   "metadata": {},
   "outputs": [],
   "source": [
    "get_user_rated_books(1)"
   ]
  },
  {
   "cell_type": "code",
   "execution_count": null,
   "metadata": {},
   "outputs": [],
   "source": [
    "get_user_recommendation(1)"
   ]
  },
  {
   "cell_type": "code",
   "execution_count": null,
   "metadata": {},
   "outputs": [],
   "source": [
    "database.ratings_df.shape"
   ]
  },
  {
   "cell_type": "code",
   "execution_count": null,
   "metadata": {},
   "outputs": [],
   "source": [
    "database.ratings_df.shape"
   ]
  },
  {
   "cell_type": "code",
   "execution_count": null,
   "metadata": {},
   "outputs": [],
   "source": []
  }
 ],
 "metadata": {
  "kernelspec": {
   "display_name": "Python 3",
   "language": "python",
   "name": "python3"
  },
  "language_info": {
   "codemirror_mode": {
    "name": "ipython",
    "version": 3
   },
   "file_extension": ".py",
   "mimetype": "text/x-python",
   "name": "python",
   "nbconvert_exporter": "python",
   "pygments_lexer": "ipython3",
   "version": "3.7.4"
  },
  "toc": {
   "base_numbering": 1,
   "nav_menu": {},
   "number_sections": true,
   "sideBar": true,
   "skip_h1_title": false,
   "title_cell": "Table of Contents",
   "title_sidebar": "Contents",
   "toc_cell": false,
   "toc_position": {},
   "toc_section_display": true,
   "toc_window_display": false
  },
  "varInspector": {
   "cols": {
    "lenName": 16,
    "lenType": 16,
    "lenVar": 40
   },
   "kernels_config": {
    "python": {
     "delete_cmd_postfix": "",
     "delete_cmd_prefix": "del ",
     "library": "var_list.py",
     "varRefreshCmd": "print(var_dic_list())"
    },
    "r": {
     "delete_cmd_postfix": ") ",
     "delete_cmd_prefix": "rm(",
     "library": "var_list.r",
     "varRefreshCmd": "cat(var_dic_list()) "
    }
   },
   "types_to_exclude": [
    "module",
    "function",
    "builtin_function_or_method",
    "instance",
    "_Feature"
   ],
   "window_display": false
  }
 },
 "nbformat": 4,
 "nbformat_minor": 2
}
