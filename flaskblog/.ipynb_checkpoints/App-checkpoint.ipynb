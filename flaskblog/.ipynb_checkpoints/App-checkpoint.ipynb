{
 "cells": [
  {
   "cell_type": "markdown",
   "metadata": {},
   "source": [
    "#Set Up"
   ]
  },
  {
   "cell_type": "code",
   "execution_count": 15,
   "metadata": {},
   "outputs": [],
   "source": [
    "from flask import Flask,render_template,url_for,request, jsonify\n",
    "import pandas as pd\n",
    "import sys\n",
    "import random\n",
    "app = Flask(__name__)"
   ]
  },
  {
   "cell_type": "code",
   "execution_count": 2,
   "metadata": {},
   "outputs": [
    {
     "name": "stdout",
     "output_type": "stream",
     "text": [
      "importing Jupyter notebook from SVDHomeWork.ipynb\n"
     ]
    },
    {
     "name": "stderr",
     "output_type": "stream",
     "text": [
      "SVDHomeWork.ipynb:1: FutureWarning: Method .as_matrix will be removed in a future version. Use .values instead.\n",
      "  {\n"
     ]
    }
   ],
   "source": [
    "%load_ext autoreload\n",
    "%autoreload 2\n",
    "sys.path.append('/Users/sandeep/opt/anaconda3/lib/python3.7/site-packages')\n",
    "import import_ipynb\n",
    "import SVDHomeWork as database"
   ]
  },
  {
   "cell_type": "code",
   "execution_count": 14,
   "metadata": {},
   "outputs": [],
   "source": [
    " %reload_ext autoreload"
   ]
  },
  {
   "cell_type": "markdown",
   "metadata": {
    "heading_collapsed": true
   },
   "source": [
    "#Svd module: GET USER RECOMMENDATION AND USER RATED BOOKS \n"
   ]
  },
  {
   "cell_type": "markdown",
   "metadata": {
    "hidden": true
   },
   "source": [
    "- THIS FUNCTION RETURN A DICT WITH RECOMMENDATED RATING FOR  GIVEN USER\n",
    "    - user get_reommendation function()\n",
    "        - Takes in userID, books_df , rating_df\n",
    "        - How to get books_df, rating_df?\n",
    "            - HAVE A FUNCTION IN SVDHW THAT RETURNS THE 2 DATAFRAME\n",
    "            - THIS WILL BE THE ARGUMENTS \n",
    "    - Retrun a dict\n",
    "        -{0: {'userID': 15,\n",
    "              'ISBN': '0840748493',\n",
    "              'bookRating': 8,\n",
    "              'book_title': 'Gift Of The Blessing, The',\n",
    "              'genre': 'Religion|Inspirational'},\n",
    "         1: { 'userID': 15,\n",
    "              'ISBN': '1591856132',\n",
    "              'bookRating': 8,\n",
    "              'book_title': 'Shadowmancer',\n",
    "              'genre': 'Magic|Fantasy'}}\n",
    "         - How to access it?\n",
    "             - dict['whatFeature/Col.eg.userID']['whatRow']\n",
    "             - kinda the opposite"
   ]
  },
  {
   "cell_type": "code",
   "execution_count": 4,
   "metadata": {
    "hidden": true
   },
   "outputs": [],
   "source": [
    "def get_user_recommendation(userID):\n",
    "    books_df , ratings_df = database.get_df()\n",
    "    user_rated_books, new_books =database.get_recommendation(books_df,\n",
    "                                                             ratings_df,\n",
    "                                                             userID)\n",
    "    return new_books.to_dict('index')"
   ]
  },
  {
   "cell_type": "code",
   "execution_count": 5,
   "metadata": {
    "hidden": true
   },
   "outputs": [],
   "source": [
    "def get_user_rated_books(userID):\n",
    "    books_df , ratings_df = database.get_df()\n",
    "    user_rated_books, new_books =database.get_recommendation(books_df,\n",
    "                                                             ratings_df,\n",
    "                                                             userID)\n",
    "    return user_rated_books.to_dict('index')"
   ]
  },
  {
   "cell_type": "markdown",
   "metadata": {
    "heading_collapsed": true
   },
   "source": [
    "#Svd module: Post NEW BOOKS, USER, USER RATING, NEW USER\n",
    "- New books\n",
    "    - A BOOK ROW OBJ LOOKS LIKE THIS\n",
    "         - {'ISBN': XXXX,  'book_title': , 'genre': }\n",
    "    - MAKE A FUNCTION IN database that takes a book obj and add its the data frame\n",
    "    "
   ]
  },
  {
   "cell_type": "code",
   "execution_count": null,
   "metadata": {
    "hidden": true
   },
   "outputs": [],
   "source": []
  },
  {
   "cell_type": "markdown",
   "metadata": {},
   "source": [
    "#Flask"
   ]
  },
  {
   "cell_type": "code",
   "execution_count": 6,
   "metadata": {},
   "outputs": [],
   "source": [
    "@app.route(\"/\")\n",
    "def home():\n",
    "    return render_template('home.html')"
   ]
  },
  {
   "cell_type": "code",
   "execution_count": 7,
   "metadata": {},
   "outputs": [],
   "source": [
    "@app.route(\"/history\", methods=['POST'])\n",
    "def get_history_page():\n",
    "    userID = int(request.form['userID'])\n",
    "    rated_books = get_user_rated_books(userID)\n",
    "    if len(rated_books) ==0 :\n",
    "        data = jsonify({'error':'You have not rated any books.'})\n",
    "    else:\n",
    "        data = jsonify({'datax':render_template('history.html' , posts=rated_books)\n",
    "                       })\n",
    "    return data\n",
    "    "
   ]
  },
  {
   "cell_type": "code",
   "execution_count": 8,
   "metadata": {},
   "outputs": [],
   "source": [
    "@app.route(\"/swap_user\",methods = ['POST'])\n",
    "def swap_user():\n",
    "    userID = request.form['userID']\n",
    "    exist = database.check_userID(userID)\n",
    "    \n",
    "    print(f'{exist},{userID}')\n",
    "    if exist:\n",
    "        template = render_template('recommend.html',\n",
    "                                   data=get_user_recommendation(int(userID))\n",
    "                                  )\n",
    "    \n",
    "        data = jsonify({'datax':template})\n",
    "    else:\n",
    "        data = jsonify({'error': 'UserID does not exist in the database'})\n",
    "    return data"
   ]
  },
  {
   "cell_type": "code",
   "execution_count": 18,
   "metadata": {},
   "outputs": [
    {
     "ename": "TypeError",
     "evalue": "route() takes 2 positional arguments but 3 were given",
     "output_type": "error",
     "traceback": [
      "\u001b[0;31m---------------------------------------------------------------------------\u001b[0m",
      "\u001b[0;31mTypeError\u001b[0m                                 Traceback (most recent call last)",
      "\u001b[0;32m<ipython-input-18-86b9326f2f07>\u001b[0m in \u001b[0;36m<module>\u001b[0;34m\u001b[0m\n\u001b[0;32m----> 1\u001b[0;31m \u001b[0;34m@\u001b[0m\u001b[0mapp\u001b[0m\u001b[0;34m.\u001b[0m\u001b[0mroute\u001b[0m\u001b[0;34m(\u001b[0m\u001b[0;34m\"/browse\"\u001b[0m\u001b[0;34m,\u001b[0m\u001b[0;34m[\u001b[0m\u001b[0;34m'POST'\u001b[0m\u001b[0;34m]\u001b[0m\u001b[0;34m)\u001b[0m\u001b[0;34m\u001b[0m\u001b[0;34m\u001b[0m\u001b[0m\n\u001b[0m\u001b[1;32m      2\u001b[0m \u001b[0;32mdef\u001b[0m \u001b[0mbrowse\u001b[0m\u001b[0;34m(\u001b[0m\u001b[0;34m)\u001b[0m\u001b[0;34m:\u001b[0m\u001b[0;34m\u001b[0m\u001b[0;34m\u001b[0m\u001b[0m\n\u001b[1;32m      3\u001b[0m     \u001b[0muserID\u001b[0m \u001b[0;34m=\u001b[0m \u001b[0mrequest\u001b[0m\u001b[0;34m.\u001b[0m\u001b[0mform\u001b[0m\u001b[0;34m[\u001b[0m\u001b[0;34m'userID'\u001b[0m\u001b[0;34m]\u001b[0m\u001b[0;34m\u001b[0m\u001b[0;34m\u001b[0m\u001b[0m\n\u001b[1;32m      4\u001b[0m     \u001b[0mrandom_unseen_books\u001b[0m \u001b[0;34m=\u001b[0m \u001b[0mdatabase\u001b[0m\u001b[0;34m.\u001b[0m\u001b[0mrandom_unseen_books\u001b[0m\u001b[0;34m(\u001b[0m\u001b[0muserID\u001b[0m\u001b[0;34m)\u001b[0m\u001b[0;34m;\u001b[0m\u001b[0;34m\u001b[0m\u001b[0;34m\u001b[0m\u001b[0m\n\u001b[1;32m      5\u001b[0m     \u001b[0mrandom_unseen_books\u001b[0m \u001b[0;34m=\u001b[0m \u001b[0mrandom_unseen_books\u001b[0m\u001b[0;34m.\u001b[0m\u001b[0mto_dict\u001b[0m\u001b[0;34m(\u001b[0m\u001b[0;34m'index'\u001b[0m\u001b[0;34m)\u001b[0m\u001b[0;34m;\u001b[0m\u001b[0;34m\u001b[0m\u001b[0;34m\u001b[0m\u001b[0m\n",
      "\u001b[0;31mTypeError\u001b[0m: route() takes 2 positional arguments but 3 were given"
     ]
    }
   ],
   "source": [
    "@app.route(\"/browse\",methods = ['POST'])\n",
    "def browse():\n",
    "    userID = request.form['userID']\n",
    "    random_unseen_books = database.random_unseen_books(userID);\n",
    "    random_unseen_books = random_unseen_books.to_dict('index');\n",
    "    keys = random_unseen_books.keys()\n",
    "    keys = keys[0:8] \n",
    "    random.shuffle(keys)\n",
    "    data = {}\n",
    "    for key in range:\n",
    "        data[key] = random_unseen_books[key]\n",
    "    template = render_template('recommend.html', \n",
    "                              data = data )\n",
    "    return jsonify('datax':template)\n",
    "    \n",
    "    "
   ]
  },
  {
   "cell_type": "code",
   "execution_count": 17,
   "metadata": {},
   "outputs": [
    {
     "ename": "TypeError",
     "evalue": "unhashable type: 'slice'",
     "output_type": "error",
     "traceback": [
      "\u001b[0;31m---------------------------------------------------------------------------\u001b[0m",
      "\u001b[0;31mTypeError\u001b[0m                                 Traceback (most recent call last)",
      "\u001b[0;32m<ipython-input-17-4389ba82d36f>\u001b[0m in \u001b[0;36m<module>\u001b[0;34m\u001b[0m\n\u001b[1;32m      1\u001b[0m \u001b[0ma\u001b[0m \u001b[0;34m=\u001b[0m \u001b[0;34m{\u001b[0m\u001b[0;36m1\u001b[0m\u001b[0;34m:\u001b[0m\u001b[0;36m1\u001b[0m\u001b[0;34m,\u001b[0m\u001b[0;36m2\u001b[0m\u001b[0;34m:\u001b[0m\u001b[0;36m2\u001b[0m\u001b[0;34m}\u001b[0m\u001b[0;34m\u001b[0m\u001b[0;34m\u001b[0m\u001b[0m\n\u001b[0;32m----> 2\u001b[0;31m \u001b[0ma\u001b[0m\u001b[0;34m[\u001b[0m\u001b[0;36m0\u001b[0m\u001b[0;34m:\u001b[0m\u001b[0;36m1\u001b[0m\u001b[0;34m]\u001b[0m\u001b[0;34m\u001b[0m\u001b[0;34m\u001b[0m\u001b[0m\n\u001b[0m",
      "\u001b[0;31mTypeError\u001b[0m: unhashable type: 'slice'"
     ]
    }
   ],
   "source": [
    "a = {1:1,2:2}\n"
   ]
  },
  {
   "cell_type": "code",
   "execution_count": 9,
   "metadata": {},
   "outputs": [
    {
     "name": "stdout",
     "output_type": "stream",
     "text": [
      " * Serving Flask app \"__main__\" (lazy loading)\n",
      " * Environment: production\n",
      "   WARNING: This is a development server. Do not use it in a production deployment.\n",
      "   Use a production WSGI server instead.\n",
      " * Debug mode: off\n"
     ]
    },
    {
     "name": "stderr",
     "output_type": "stream",
     "text": [
      " * Running on http://127.0.0.1:5000/ (Press CTRL+C to quit)\n",
      "127.0.0.1 - - [22/Nov/2019 12:44:50] \"GET / HTTP/1.1\" 200 -\n",
      "127.0.0.1 - - [22/Nov/2019 12:44:52] \"GET / HTTP/1.1\" 200 -\n",
      "127.0.0.1 - - [22/Nov/2019 12:44:52] \"GET /static/js/form.js HTTP/1.1\" 200 -\n",
      "127.0.0.1 - - [22/Nov/2019 12:44:52] \"GET /favicon.ico HTTP/1.1\" 404 -\n",
      "127.0.0.1 - - [22/Nov/2019 12:44:52] \"GET / HTTP/1.1\" 200 -\n",
      "127.0.0.1 - - [22/Nov/2019 12:44:52] \"GET /static/js/form.js HTTP/1.1\" 200 -\n",
      "127.0.0.1 - - [22/Nov/2019 12:44:52] \"GET /favicon.ico HTTP/1.1\" 404 -\n",
      "127.0.0.1 - - [22/Nov/2019 12:44:52] \"GET / HTTP/1.1\" 200 -\n",
      "127.0.0.1 - - [22/Nov/2019 12:44:52] \"GET /static/js/form.js HTTP/1.1\" 200 -\n",
      "127.0.0.1 - - [22/Nov/2019 12:44:53] \"GET /favicon.ico HTTP/1.1\" 404 -\n",
      "127.0.0.1 - - [22/Nov/2019 12:44:55] \"POST /swap_user HTTP/1.1\" 200 -\n"
     ]
    },
    {
     "name": "stdout",
     "output_type": "stream",
     "text": [
      "True,12\n"
     ]
    },
    {
     "name": "stderr",
     "output_type": "stream",
     "text": [
      "127.0.0.1 - - [22/Nov/2019 12:44:56] \"POST /history HTTP/1.1\" 200 -\n",
      "127.0.0.1 - - [22/Nov/2019 12:44:58] \"POST /history HTTP/1.1\" 200 -\n",
      "127.0.0.1 - - [22/Nov/2019 12:45:08] \"POST /history HTTP/1.1\" 200 -\n",
      "127.0.0.1 - - [22/Nov/2019 12:45:09] \"POST /history HTTP/1.1\" 200 -\n",
      "127.0.0.1 - - [22/Nov/2019 12:45:15] \"POST /history HTTP/1.1\" 200 -\n",
      "127.0.0.1 - - [22/Nov/2019 12:45:17] \"POST /history HTTP/1.1\" 200 -\n",
      "127.0.0.1 - - [22/Nov/2019 12:45:18] \"POST /history HTTP/1.1\" 200 -\n",
      "127.0.0.1 - - [22/Nov/2019 12:45:19] \"POST /history HTTP/1.1\" 200 -\n",
      "127.0.0.1 - - [22/Nov/2019 12:45:24] \"POST /history HTTP/1.1\" 200 -\n",
      "127.0.0.1 - - [22/Nov/2019 12:45:27] \"POST /history HTTP/1.1\" 200 -\n",
      "127.0.0.1 - - [22/Nov/2019 12:45:31] \"POST /history HTTP/1.1\" 200 -\n",
      "127.0.0.1 - - [22/Nov/2019 12:45:40] \"POST /history HTTP/1.1\" 200 -\n",
      "127.0.0.1 - - [22/Nov/2019 12:45:43] \"POST /history HTTP/1.1\" 200 -\n",
      "127.0.0.1 - - [22/Nov/2019 12:45:45] \"POST /history HTTP/1.1\" 200 -\n",
      "127.0.0.1 - - [22/Nov/2019 12:45:47] \"POST /history HTTP/1.1\" 200 -\n",
      "127.0.0.1 - - [22/Nov/2019 12:45:50] \"POST /history HTTP/1.1\" 200 -\n"
     ]
    }
   ],
   "source": [
    "if __name__ == '__main__':\n",
    "    app.run()"
   ]
  },
  {
   "cell_type": "code",
   "execution_count": 10,
   "metadata": {},
   "outputs": [
    {
     "data": {
      "text/plain": [
       "{0: {'userID': 15,\n",
       "  'ISBN': '0840748493',\n",
       "  'bookRating': 8,\n",
       "  'book_title': 'Gift Of The Blessing, The',\n",
       "  'genre': 'Religion|Inspirational'},\n",
       " 1: {'userID': 15,\n",
       "  'ISBN': '1591856132',\n",
       "  'bookRating': 8,\n",
       "  'book_title': 'Shadowmancer',\n",
       "  'genre': 'Magic|Fantasy'}}"
      ]
     },
     "execution_count": 10,
     "metadata": {},
     "output_type": "execute_result"
    }
   ],
   "source": [
    "get_user_rated_books(15)"
   ]
  },
  {
   "cell_type": "code",
   "execution_count": 11,
   "metadata": {},
   "outputs": [
    {
     "data": {
      "text/plain": [
       "{560: {'ISBN': '0805073337',\n",
       "  'book_title': 'What Was She Thinking?: Notes on a Scandal: A Novel',\n",
       "  'genre': 'Literary Collections'},\n",
       " 425: {'ISBN': '0671721135',\n",
       "  'book_title': 'THROUGH THE ICE',\n",
       "  'genre': \"Children's Fiction|Science Fiction|Fantasy|Magic\"},\n",
       " 1617: {'ISBN': '0679404864',\n",
       "  'book_title': \"Dave Barry's Guide to Guys: A Fairly Short Book\",\n",
       "  'genre': 'Men--Humor'},\n",
       " 1021: {'ISBN': '0689859368',\n",
       "  'book_title': 'The Field Guide (The Spiderwick Chronicles, Book 1)',\n",
       "  'genre': 'Fairies|Brothers And Sisters|Single-parent Families'},\n",
       " 1865: {'ISBN': '0380978954',\n",
       "  'book_title': 'The Truth: A Novel of Discworld',\n",
       "  'genre': 'Discworld (Imaginary place)|Discworld (Imaginary place)--Fiction|Newspaper publishing|Newspaper publishing--Fiction|Journalists|Journalists--Fiction'},\n",
       " 24: {'ISBN': '156619024X',\n",
       "  'book_title': 'Jane Eyre',\n",
       "  'genre': 'Literary Collections'},\n",
       " 758: {'ISBN': '0140430784',\n",
       "  'book_title': 'Pickwick Club: Posthumous Papers (Penguin English Library)',\n",
       "  'genre': 'Men--Societies and clubs|Men--Societies and clubs--Fiction|Male friendship|Male friendship--Fiction'},\n",
       " 2142: {'ISBN': '0746016719',\n",
       "  'book_title': \"Fangtastic Adventures of Dracula's Dentures (Rhyming Stories Series)\",\n",
       "  'genre': 'Literary Collections'},\n",
       " 880: {'ISBN': '0671207148',\n",
       "  'book_title': 'JOHNSTOWN FLOOD',\n",
       "  'genre': 'Floods|Floods--Pennsylvania--Johnstown|Floods--Pennsylvania--Johnstown (Cambria County)|History'},\n",
       " 340: {'ISBN': '051720679X',\n",
       "  'book_title': 'Three Complete Novels: \\\\A\\\\\" Is for Alibi / \\\\\"B\\\\\" Is for Burglar / \\\\\"C\\\\\" Is for Corpse\"',\n",
       "  'genre': 'Fiction|Mystery & Detective'}}"
      ]
     },
     "execution_count": 11,
     "metadata": {},
     "output_type": "execute_result"
    }
   ],
   "source": [
    "get_user_recommendation(1)"
   ]
  },
  {
   "cell_type": "code",
   "execution_count": 12,
   "metadata": {},
   "outputs": [],
   "source": [
    "a ={1:12}"
   ]
  },
  {
   "cell_type": "code",
   "execution_count": 13,
   "metadata": {},
   "outputs": [
    {
     "data": {
      "text/plain": [
       "1"
      ]
     },
     "execution_count": 13,
     "metadata": {},
     "output_type": "execute_result"
    }
   ],
   "source": [
    "len(a)"
   ]
  },
  {
   "cell_type": "code",
   "execution_count": null,
   "metadata": {},
   "outputs": [],
   "source": []
  }
 ],
 "metadata": {
  "kernelspec": {
   "display_name": "Python 3",
   "language": "python",
   "name": "python3"
  },
  "language_info": {
   "codemirror_mode": {
    "name": "ipython",
    "version": 3
   },
   "file_extension": ".py",
   "mimetype": "text/x-python",
   "name": "python",
   "nbconvert_exporter": "python",
   "pygments_lexer": "ipython3",
   "version": "3.7.4"
  },
  "toc": {
   "base_numbering": 1,
   "nav_menu": {},
   "number_sections": true,
   "sideBar": true,
   "skip_h1_title": false,
   "title_cell": "Table of Contents",
   "title_sidebar": "Contents",
   "toc_cell": false,
   "toc_position": {},
   "toc_section_display": true,
   "toc_window_display": false
  },
  "varInspector": {
   "cols": {
    "lenName": 16,
    "lenType": 16,
    "lenVar": 40
   },
   "kernels_config": {
    "python": {
     "delete_cmd_postfix": "",
     "delete_cmd_prefix": "del ",
     "library": "var_list.py",
     "varRefreshCmd": "print(var_dic_list())"
    },
    "r": {
     "delete_cmd_postfix": ") ",
     "delete_cmd_prefix": "rm(",
     "library": "var_list.r",
     "varRefreshCmd": "cat(var_dic_list()) "
    }
   },
   "types_to_exclude": [
    "module",
    "function",
    "builtin_function_or_method",
    "instance",
    "_Feature"
   ],
   "window_display": false
  }
 },
 "nbformat": 4,
 "nbformat_minor": 2
}
