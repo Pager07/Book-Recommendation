{
 "cells": [
  {
   "cell_type": "markdown",
   "metadata": {},
   "source": [
    "#Set Up"
   ]
  },
  {
   "cell_type": "code",
   "execution_count": 1,
   "metadata": {},
   "outputs": [],
   "source": [
    "from flask import Flask,render_template,url_for\n",
    "import pandas as pd\n",
    "import sys\n",
    "app = Flask(__name__)"
   ]
  },
  {
   "cell_type": "code",
   "execution_count": 2,
   "metadata": {},
   "outputs": [
    {
     "name": "stdout",
     "output_type": "stream",
     "text": [
      "importing Jupyter notebook from SVDHomeWork.ipynb\n"
     ]
    },
    {
     "name": "stderr",
     "output_type": "stream",
     "text": [
      "SVDHomeWork.ipynb:1: FutureWarning: Method .as_matrix will be removed in a future version. Use .values instead.\n",
      "  {\n"
     ]
    }
   ],
   "source": [
    "%load_ext autoreload\n",
    "%autoreload 2\n",
    "sys.path.append('/Users/sandeep/opt/anaconda3/lib/python3.7/site-packages')\n",
    "import import_ipynb\n",
    "import SVDHomeWork as database"
   ]
  },
  {
   "cell_type": "markdown",
   "metadata": {},
   "source": [
    "#Svd module: GET USER RECOMMENDATION AND USER RATED BOOKS \n"
   ]
  },
  {
   "cell_type": "markdown",
   "metadata": {},
   "source": [
    "- THIS FUNCTION RETURN A DICT WITH RECOMMENDATED RATING FOR  GIVEN USER\n",
    "    - user get_reommendation function()\n",
    "        - Takes in userID, books_df , rating_df\n",
    "        - How to get books_df, rating_df?\n",
    "            - HAVE A FUNCTION IN SVDHW THAT RETURNS THE 2 DATAFRAME\n",
    "            - THIS WILL BE THE ARGUMENTS \n",
    "    - Retrun a dict\n",
    "        -{0: {'userID': 15,\n",
    "              'ISBN': '0840748493',\n",
    "              'bookRating': 8,\n",
    "              'book_title': 'Gift Of The Blessing, The',\n",
    "              'genre': 'Religion|Inspirational'},\n",
    "         1: { 'userID': 15,\n",
    "              'ISBN': '1591856132',\n",
    "              'bookRating': 8,\n",
    "              'book_title': 'Shadowmancer',\n",
    "              'genre': 'Magic|Fantasy'}}\n",
    "         - How to access it?\n",
    "             - dict['whatFeature/Col.eg.userID']['whatRow']\n",
    "             - kinda the opposite"
   ]
  },
  {
   "cell_type": "code",
   "execution_count": 3,
   "metadata": {},
   "outputs": [],
   "source": [
    "def get_user_recommendation(userID):\n",
    "    books_df , ratings_df = database.get_df()\n",
    "    user_rated_books, new_books =database.get_recommendation(books_df,\n",
    "                                                             ratings_df,\n",
    "                                                             userID)\n",
    "    return new_books.to_dict('index')"
   ]
  },
  {
   "cell_type": "code",
   "execution_count": 4,
   "metadata": {},
   "outputs": [],
   "source": [
    "def get_user_rated_books(userID):\n",
    "    books_df , ratings_df = database.get_df()\n",
    "    user_rated_books, new_books =database.get_recommendation(books_df,\n",
    "                                                             ratings_df,\n",
    "                                                             userID)\n",
    "    return user_rated_books.to_dict('index')"
   ]
  },
  {
   "cell_type": "markdown",
   "metadata": {
    "heading_collapsed": true
   },
   "source": [
    "#Svd module: Post NEW BOOKS, USER, USER RATING, NEW USER\n",
    "- New books\n",
    "    - A BOOK ROW OBJ LOOKS LIKE THIS\n",
    "         - {'ISBN': XXXX,  'book_title': , 'genre': }\n",
    "    - MAKE A FUNCTION IN database that takes a book obj and add its the data frame\n",
    "    "
   ]
  },
  {
   "cell_type": "code",
   "execution_count": null,
   "metadata": {
    "hidden": true
   },
   "outputs": [],
   "source": []
  },
  {
   "cell_type": "markdown",
   "metadata": {},
   "source": [
    "#Flask"
   ]
  },
  {
   "cell_type": "code",
   "execution_count": 5,
   "metadata": {},
   "outputs": [],
   "source": [
    "@app.route(\"/\")\n",
    "@app.route(\"/home\")\n",
    "def home():\n",
    "    new_books = get_user_recommendation(20)\n",
    "    return render_template('recommend.html' , posts=new_books)"
   ]
  },
  {
   "cell_type": "code",
   "execution_count": 6,
   "metadata": {},
   "outputs": [],
   "source": [
    "@app.route(\"/history\")\n",
    "def get_history_page():\n",
    "    rated_books = get_user_rated_books(20)\n",
    "    return render_template('history.html' , posts=rated_books)"
   ]
  },
  {
   "cell_type": "code",
   "execution_count": 7,
   "metadata": {},
   "outputs": [],
   "source": [
    "# @app.route(\"/about\")\n",
    "# def about():\n",
    "#     return render_template('about.html', title='About')"
   ]
  },
  {
   "cell_type": "code",
   "execution_count": null,
   "metadata": {},
   "outputs": [
    {
     "name": "stdout",
     "output_type": "stream",
     "text": [
      " * Serving Flask app \"__main__\" (lazy loading)\n",
      " * Environment: production\n",
      "   WARNING: This is a development server. Do not use it in a production deployment.\n",
      "   Use a production WSGI server instead.\n",
      " * Debug mode: off\n"
     ]
    },
    {
     "name": "stderr",
     "output_type": "stream",
     "text": [
      " * Running on http://127.0.0.1:5000/ (Press CTRL+C to quit)\n",
      "127.0.0.1 - - [20/Nov/2019 18:17:35] \"GET / HTTP/1.1\" 200 -\n",
      "127.0.0.1 - - [20/Nov/2019 18:17:36] \"GET /history HTTP/1.1\" 200 -\n",
      "127.0.0.1 - - [20/Nov/2019 18:17:40] \"GET /home HTTP/1.1\" 200 -\n"
     ]
    }
   ],
   "source": [
    "if __name__ == '__main__':\n",
    "    app.run()"
   ]
  },
  {
   "cell_type": "code",
   "execution_count": null,
   "metadata": {},
   "outputs": [],
   "source": []
  }
 ],
 "metadata": {
  "kernelspec": {
   "display_name": "Python 3",
   "language": "python",
   "name": "python3"
  },
  "language_info": {
   "codemirror_mode": {
    "name": "ipython",
    "version": 3
   },
   "file_extension": ".py",
   "mimetype": "text/x-python",
   "name": "python",
   "nbconvert_exporter": "python",
   "pygments_lexer": "ipython3",
   "version": "3.7.4"
  },
  "toc": {
   "base_numbering": 1,
   "nav_menu": {},
   "number_sections": true,
   "sideBar": true,
   "skip_h1_title": false,
   "title_cell": "Table of Contents",
   "title_sidebar": "Contents",
   "toc_cell": false,
   "toc_position": {},
   "toc_section_display": true,
   "toc_window_display": false
  },
  "varInspector": {
   "cols": {
    "lenName": 16,
    "lenType": 16,
    "lenVar": 40
   },
   "kernels_config": {
    "python": {
     "delete_cmd_postfix": "",
     "delete_cmd_prefix": "del ",
     "library": "var_list.py",
     "varRefreshCmd": "print(var_dic_list())"
    },
    "r": {
     "delete_cmd_postfix": ") ",
     "delete_cmd_prefix": "rm(",
     "library": "var_list.r",
     "varRefreshCmd": "cat(var_dic_list()) "
    }
   },
   "types_to_exclude": [
    "module",
    "function",
    "builtin_function_or_method",
    "instance",
    "_Feature"
   ],
   "window_display": false
  }
 },
 "nbformat": 4,
 "nbformat_minor": 2
}
